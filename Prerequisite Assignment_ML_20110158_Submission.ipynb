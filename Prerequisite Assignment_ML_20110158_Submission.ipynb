{
  "cells": [
    {
      "cell_type": "markdown",
      "id": "6f708091",
      "metadata": {
        "id": "6f708091"
      },
      "source": [
        "# Question 1\n"
      ]
    },
    {
      "cell_type": "markdown",
      "id": "cbf893a8",
      "metadata": {
        "id": "cbf893a8"
      },
      "source": [
        "Consider a matrix A having dimensions-(n,k) and matrix B having dimensions-(k,m). Their resultant product C=AB has dimensions (n,m). So, AB has a total of __n * m__ elements.\n",
        "\n",
        "To compute C[i][j], we will multiply every A[i][t] with every B[t][j] for 1<=t<=k and add it to a running sum which has an initial value of 0- so that's a total of k multiplications and k additions of the obtained products for each C[i][j]. In case we omit the initial addition to the 0 sum variable, we'll need k-1 additions and therefore n * m * (k-1) additions, but I'm assuming we don't do that.\n",
        "\n",
        "We'll need to do this for all elements in C, so total multiplications = n * m * k and total additions = n * m * k"
      ]
    },
    {
      "cell_type": "markdown",
      "id": "b9f82689",
      "metadata": {
        "id": "b9f82689"
      },
      "source": [
        "***"
      ]
    },
    {
      "cell_type": "markdown",
      "id": "77837472",
      "metadata": {
        "id": "77837472"
      },
      "source": [
        "# Question 2"
      ]
    },
    {
      "cell_type": "markdown",
      "id": "d08a2028",
      "metadata": {
        "id": "d08a2028"
      },
      "source": [
        "### Using List of Lists"
      ]
    },
    {
      "cell_type": "code",
      "execution_count": 204,
      "id": "0ccd34eb",
      "metadata": {
        "id": "0ccd34eb"
      },
      "outputs": [],
      "source": [
        "#Let m=5, k=4, n = 6\n",
        "\n",
        "A=[[0,1,2,3],[4,5,6,7],[8,9,10,11],[12,13,14,15],[16,17,18,19]]\n",
        "B=[[0,1,2,3,4,5],[6,7,8,9,10,11],[12,13,14,15,16,17],[18,19,20,21,22,23]]\n",
        "\n",
        "\n",
        "def multiply_list(A,B):\n",
        "    r = len(A)\n",
        "    c = len(B[0])\n",
        "    k = len(A[0])\n",
        "    \n",
        "    C=[[0 for j in range(c)]for i in range(r)]\n",
        "    \n",
        "    for i in range(r):\n",
        "        for j in range(c):\n",
        "            for t in range(k):\n",
        "                C[i][j]+=(A[i][t]*B[t][j])\n",
        "    \n",
        "    print(C)\n",
        "    \n",
        "    "
      ]
    },
    {
      "cell_type": "code",
      "execution_count": 205,
      "id": "de61d24c",
      "metadata": {
        "colab": {
          "base_uri": "https://localhost:8080/"
        },
        "id": "de61d24c",
        "outputId": "00b96d6e-5d5f-456c-e6d2-917e0ac20585"
      },
      "outputs": [
        {
          "output_type": "stream",
          "name": "stdout",
          "text": [
            "[[84, 90, 96, 102, 108, 114], [228, 250, 272, 294, 316, 338], [372, 410, 448, 486, 524, 562], [516, 570, 624, 678, 732, 786], [660, 730, 800, 870, 940, 1010]]\n"
          ]
        }
      ],
      "source": [
        "multiply_list(A,B)"
      ]
    },
    {
      "cell_type": "code",
      "execution_count": 206,
      "id": "f5b25e37",
      "metadata": {
        "id": "f5b25e37"
      },
      "outputs": [],
      "source": [
        "#%timeit -r 3 -n 5000 multiply_list(A,B)"
      ]
    },
    {
      "cell_type": "markdown",
      "id": "b19e50c4",
      "metadata": {
        "id": "b19e50c4"
      },
      "source": [
        "**85 µs ± 2.56 µs per loop (mean ± std. dev. of 3 runs, 5,000 loops each)**"
      ]
    },
    {
      "cell_type": "markdown",
      "id": "5f4cdba1",
      "metadata": {
        "id": "5f4cdba1"
      },
      "source": [
        "### Using Numpy Arrays"
      ]
    },
    {
      "cell_type": "code",
      "execution_count": 207,
      "id": "7b83dc86",
      "metadata": {
        "scrolled": true,
        "id": "7b83dc86"
      },
      "outputs": [],
      "source": [
        "#Let m=5, k=4, n = 6\n",
        "import numpy as np\n",
        "\n",
        "A = np.arange(20).reshape(5,4)\n",
        "B = np.arange(24).reshape(4,6)\n",
        "\n",
        "def np_matrix_mult(A,B):\n",
        "    C = np.matmul(A,B)\n",
        "    print(C)\n",
        "    "
      ]
    },
    {
      "cell_type": "code",
      "execution_count": 208,
      "id": "13a0acca",
      "metadata": {
        "colab": {
          "base_uri": "https://localhost:8080/"
        },
        "id": "13a0acca",
        "outputId": "22f4ac2a-0691-425b-a953-168f4228764b"
      },
      "outputs": [
        {
          "output_type": "stream",
          "name": "stdout",
          "text": [
            "[[  84   90   96  102  108  114]\n",
            " [ 228  250  272  294  316  338]\n",
            " [ 372  410  448  486  524  562]\n",
            " [ 516  570  624  678  732  786]\n",
            " [ 660  730  800  870  940 1010]]\n"
          ]
        }
      ],
      "source": [
        "np_matrix_mult(A,B)"
      ]
    },
    {
      "cell_type": "code",
      "execution_count": 209,
      "id": "0e04d883",
      "metadata": {
        "id": "0e04d883"
      },
      "outputs": [],
      "source": [
        "#%timeit -r 3 -n 5000 np_matrix_mult(A,B)"
      ]
    },
    {
      "cell_type": "markdown",
      "id": "1f240cff",
      "metadata": {
        "id": "1f240cff"
      },
      "source": [
        "**86.1 µs ± 5 µs per loop (mean ± std. dev. of 3 runs, 5,000 loops each)**"
      ]
    },
    {
      "cell_type": "markdown",
      "id": "de54e854",
      "metadata": {
        "id": "de54e854"
      },
      "source": [
        "In this particular case(for small values of (n,m,k)), the runtimes are almost the same but in general, for larger values of (n,m,k), we can conclude that operations on Numpy arrays are faster than the same operations on Python lists. There are a few crucial differences between the two which lead to the difference in performance-\n",
        "\n",
        "1. Python lists have variable sizes whereas numpy arrays have fixed sizes.\n",
        "2. Python lists can store different data types together and data types are dynamic(can be changed), but numpy arrays have the same data type for all the elements.\n",
        "\n",
        "Everytime we multiply elements of a Python list, a lookup occurs to find the datatype of the element and to decide the corresponding function needed to perform the multiplication. This does not occur in Numpy arrays as they have a fixed data type throughout. So, most operations are faster in the case of Numpy arrays as they skip the overhead of the lookups that Python lists incur at each step.\n",
        "\n",
        "This is because Numpy is built in C and translates its internal data to ctypes. Vectorized operations in Numpy are translated to highly optimized C code, making them far quicker than their standard Python equivalents."
      ]
    },
    {
      "cell_type": "markdown",
      "id": "0de985f3",
      "metadata": {
        "id": "0de985f3"
      },
      "source": [
        "---"
      ]
    },
    {
      "cell_type": "markdown",
      "id": "4aad6188",
      "metadata": {
        "id": "4aad6188"
      },
      "source": [
        "# Question 3\n"
      ]
    },
    {
      "cell_type": "markdown",
      "id": "4b61f7c5",
      "metadata": {
        "id": "4b61f7c5"
      },
      "source": [
        "### Method 1"
      ]
    },
    {
      "cell_type": "markdown",
      "id": "654985cb",
      "metadata": {
        "id": "654985cb"
      },
      "source": [
        "This method uses 1 pass to find the greatest, then another to find the 2n greatest element and so on. The median of an odd-sized array will be the middle element- that number which has the same number of numbers greater than it as well as smaller than it.\n",
        "\n",
        "If the array size is even, the median is the average of the two middle elements.\n"
      ]
    },
    {
      "cell_type": "code",
      "execution_count": 262,
      "id": "11eeab90",
      "metadata": {
        "id": "11eeab90"
      },
      "outputs": [],
      "source": [
        "def simple_median(A):\n",
        "    n=len(A)\n",
        "\n",
        "    l=n//2\n",
        "    current_max = None\n",
        "    \n",
        "    #finding the largest element and initializing current_max to that value\n",
        "    \n",
        "    for i in range(n):\n",
        "        if(current_max==None):\n",
        "            current_max=A[i]\n",
        "        elif(A[i]>current_max):\n",
        "            current_max=A[i]\n",
        "            \n",
        "\n",
        "    for i in range(l):\n",
        "        maxx = -1\n",
        "        last = current_max    \n",
        "        for j in range(n):\n",
        "            if(A[j]>maxx and A[j]<current_max):\n",
        "                maxx = A[j]\n",
        "        \n",
        "        current_max = maxx\n",
        "    \n",
        "    if(n%2==0):\n",
        "      return (current_max+last)/2\n",
        "    else:\n",
        "      return current_max"
      ]
    },
    {
      "cell_type": "code",
      "execution_count": 263,
      "id": "ac3e011d",
      "metadata": {
        "colab": {
          "base_uri": "https://localhost:8080/"
        },
        "id": "ac3e011d",
        "outputId": "d40d5a1a-5657-499f-d1aa-98f78fa2c9bd"
      },
      "outputs": [
        {
          "output_type": "execute_result",
          "data": {
            "text/plain": [
              "50.5"
            ]
          },
          "metadata": {},
          "execution_count": 263
        }
      ],
      "source": [
        "n=102\n",
        "A=[i for i in range(n)]\n",
        "np.random.shuffle(A)\n",
        "simple_median(A)"
      ]
    },
    {
      "cell_type": "code",
      "execution_count": 264,
      "id": "280d223d",
      "metadata": {
        "colab": {
          "base_uri": "https://localhost:8080/"
        },
        "id": "280d223d",
        "outputId": "1b009555-3ff2-4489-fd27-669c555fd80d"
      },
      "outputs": [
        {
          "output_type": "stream",
          "name": "stdout",
          "text": [
            "509 µs ± 57.2 µs per loop (mean ± std. dev. of 3 runs, 5000 loops each)\n"
          ]
        }
      ],
      "source": [
        "#%timeit -r 3 -n 5000 simple_median(A)"
      ]
    },
    {
      "cell_type": "markdown",
      "id": "77855270",
      "metadata": {
        "id": "77855270"
      },
      "source": [
        "The time complexity for this method is O(n<sup>2</sup>) which is due to n/2 outer iterations and n inner iterations for each of those inner iterations. Using current_max, I can track the greatest number till the previous iteration."
      ]
    },
    {
      "cell_type": "markdown",
      "id": "54b9825e",
      "metadata": {
        "id": "54b9825e"
      },
      "source": [
        "### Method 2"
      ]
    },
    {
      "cell_type": "markdown",
      "id": "85e24cc2",
      "metadata": {
        "id": "85e24cc2"
      },
      "source": [
        "A better method would be to sort the input array, check if the size is even or odd.\n",
        "\n",
        "1. If the size is odd, we can return the middle element.\n",
        "2. If it's even, we will return the average of the two middle elements."
      ]
    },
    {
      "cell_type": "code",
      "execution_count": 265,
      "id": "69c976a2",
      "metadata": {
        "id": "69c976a2"
      },
      "outputs": [],
      "source": [
        "n=102\n",
        "A=[i for i in range(n)]\n",
        "\n",
        "def sort_median(A):\n",
        "    n = len(A)\n",
        "    A.sort()\n",
        "    \n",
        "    if(n%2==1):\n",
        "        return (A[n//2])\n",
        "    else:\n",
        "        return ((A[n//2]+A[n//2-1])/2)"
      ]
    },
    {
      "cell_type": "code",
      "execution_count": 266,
      "id": "1273c095",
      "metadata": {
        "colab": {
          "base_uri": "https://localhost:8080/"
        },
        "id": "1273c095",
        "outputId": "1ffa18c7-8f11-48fc-f592-1543be090b73"
      },
      "outputs": [
        {
          "output_type": "execute_result",
          "data": {
            "text/plain": [
              "50.5"
            ]
          },
          "metadata": {},
          "execution_count": 266
        }
      ],
      "source": [
        "np.random.shuffle(A)\n",
        "sort_median(A)"
      ]
    },
    {
      "cell_type": "code",
      "execution_count": 268,
      "id": "5ae31727",
      "metadata": {
        "id": "5ae31727",
        "colab": {
          "base_uri": "https://localhost:8080/"
        },
        "outputId": "b628b4d3-7f78-45e7-a0d4-b99f481fa80b"
      },
      "outputs": [
        {
          "output_type": "stream",
          "name": "stdout",
          "text": [
            "1.91 µs ± 433 ns per loop (mean ± std. dev. of 3 runs, 5000 loops each)\n"
          ]
        }
      ],
      "source": [
        "#%timeit -r 3 -n 5000 sort_median(A)"
      ]
    },
    {
      "cell_type": "markdown",
      "id": "9c3424d5",
      "metadata": {
        "id": "9c3424d5"
      },
      "source": [
        "The time complexity for this method is O(n logn) due to the initial sorting step. It is faster."
      ]
    },
    {
      "cell_type": "markdown",
      "id": "0c36689c",
      "metadata": {
        "id": "0c36689c"
      },
      "source": [
        "### Method 3"
      ]
    },
    {
      "cell_type": "code",
      "execution_count": 269,
      "id": "29055d96",
      "metadata": {
        "id": "29055d96"
      },
      "outputs": [],
      "source": [
        "n=102\n",
        "A = np.arange(n)\n",
        "np.random.shuffle(A)\n",
        "\n",
        "def np_median(A):\n",
        "    print(np.median(A))"
      ]
    },
    {
      "cell_type": "code",
      "source": [
        "np_median(A)"
      ],
      "metadata": {
        "colab": {
          "base_uri": "https://localhost:8080/"
        },
        "id": "KZDf6j-IMKVN",
        "outputId": "077201a7-c67a-42a8-ed1a-d4fe4d02c326"
      },
      "id": "KZDf6j-IMKVN",
      "execution_count": 272,
      "outputs": [
        {
          "output_type": "stream",
          "name": "stdout",
          "text": [
            "50.5\n"
          ]
        }
      ]
    },
    {
      "cell_type": "code",
      "execution_count": 275,
      "id": "c2640e14",
      "metadata": {
        "id": "c2640e14"
      },
      "outputs": [],
      "source": [
        "#%timeit -r 3 -n 5000 np_median(A)"
      ]
    },
    {
      "cell_type": "markdown",
      "id": "d946bb5d",
      "metadata": {
        "id": "d946bb5d"
      },
      "source": [
        "**26.1 µs ± 3.77 µs per loop (mean ± std. dev. of 3 runs, 5,000 loops each)**"
      ]
    },
    {
      "cell_type": "markdown",
      "id": "63a62528",
      "metadata": {
        "id": "63a62528"
      },
      "source": [
        "Both the numpy method and the Sorting method are significantly faster than Method 1. For larger inputs, the numpy method would be the most efficient as it operates in O(n) time on average."
      ]
    },
    {
      "cell_type": "markdown",
      "id": "14a1146e",
      "metadata": {
        "id": "14a1146e"
      },
      "source": [
        "---\n",
        "---\n"
      ]
    },
    {
      "cell_type": "markdown",
      "id": "6546eeed",
      "metadata": {
        "id": "6546eeed"
      },
      "source": [
        "# Question 4"
      ]
    },
    {
      "cell_type": "markdown",
      "id": "22e27f17",
      "metadata": {
        "id": "22e27f17"
      },
      "source": [
        "f(x,y) = x<sup>2</sup>y + y<sup>3</sup>sinx\n",
        "\n",
        "GRAD(f) = $\\frac{\\partial f}{\\partial x} i + \\frac{\\partial f}{\\partial y} j$\n",
        "\n",
        "GRAD(f) = (2xy + y<sup>3</sup>cos(x)) i + (x<sup>2</sup> + 3y<sup>2</sup>sin(x)) j"
      ]
    },
    {
      "cell_type": "markdown",
      "id": "73f5d056",
      "metadata": {
        "id": "73f5d056"
      },
      "source": [
        "---\n"
      ]
    },
    {
      "cell_type": "markdown",
      "id": "1858e3f1",
      "metadata": {
        "id": "1858e3f1"
      },
      "source": [
        "# Question 5"
      ]
    },
    {
      "cell_type": "markdown",
      "id": "88cb9773",
      "metadata": {
        "id": "88cb9773"
      },
      "source": [
        "### Using Custom(Analytically Derived) Gradient and Numpy's Gradient"
      ]
    },
    {
      "cell_type": "code",
      "execution_count": 277,
      "id": "d84f8eb1",
      "metadata": {
        "colab": {
          "base_uri": "https://localhost:8080/"
        },
        "id": "d84f8eb1",
        "outputId": "142c5bb9-3c53-4e57-a4fd-34c2fd71ada8"
      },
      "outputs": [
        {
          "output_type": "execute_result",
          "data": {
            "text/plain": [
              "[array([[ 0.        ,  1.        ,  8.        , 27.        ],\n",
              "        [ 0.        ,  2.54030231,  8.32241845, 20.58816226],\n",
              "        [ 0.        ,  3.58385316,  4.67082531,  0.76403541],\n",
              "        [ 0.        ,  5.0100075 ,  4.08006003, -8.72979741]]),\n",
              " array([[ 0.        ,  0.        ,  0.        ,  0.        ],\n",
              "        [ 1.        ,  3.52441295, 11.09765182, 23.71971659],\n",
              "        [ 4.        ,  6.72789228, 14.91156912, 28.55103052],\n",
              "        [ 9.        ,  9.42336002, 10.6934401 , 12.81024022]])]"
            ]
          },
          "metadata": {},
          "execution_count": 277
        }
      ],
      "source": [
        "import numpy as np\n",
        "import math as m\n",
        "\n",
        "def f(x,y):\n",
        "    return (x**2)*(y) + (y**3)*(m.sin(x))\n",
        "\n",
        "def grad_x(x,y):\n",
        "    return 2*x*y + (y**3)*m.cos(x)\n",
        "\n",
        "def grad_y(x,y):\n",
        "    return x**2 + 3*(y**2)*(m.sin(x))\n",
        "\n",
        "n=4\n",
        "x = np.arange(n)\n",
        "y= np.arange(n)\n",
        "\n",
        "data =np.zeros(n*n).reshape(n,n)\n",
        "\n",
        "#populating sample data\n",
        "for i in range(len(x)):\n",
        "    for j in range(len(y)):\n",
        "        data[i,j]=f(x[i],y[j])\n",
        "\n",
        "\n",
        "#finding analytical partial derivative wrt x\n",
        "grad_custom_x=np.zeros(n*n).reshape(n,n)\n",
        "for i in range(len(x)):\n",
        "    for j in range(len(y)):\n",
        "        grad_custom_x[i,j]=grad_x(x[i],y[j])\n",
        "        \n",
        "\n",
        "#finding analytical partial derivative wrt y\n",
        "grad_custom_y=np.zeros(n*n).reshape(n,n)\n",
        "for i in range(len(x)):\n",
        "    for j in range(len(y)):\n",
        "        grad_custom_y[i,j]=grad_y(x[i],y[j])\n",
        "\n",
        "\n",
        "#reporting the overall gradient in 2 dimensions\n",
        "grad_custom=[grad_custom_x,grad_custom_y]\n",
        "\n",
        "grad_custom"
      ]
    },
    {
      "cell_type": "code",
      "execution_count": 278,
      "id": "eca4c17a",
      "metadata": {
        "colab": {
          "base_uri": "https://localhost:8080/"
        },
        "id": "eca4c17a",
        "outputId": "5b31292f-998c-4dab-a1e2-ca7d610ce697"
      },
      "outputs": [
        {
          "output_type": "execute_result",
          "data": {
            "text/plain": [
              "[array([[ 0.        ,  1.84147098,  8.73176788, 25.71971659],\n",
              "        [ 0.        ,  2.45464871,  7.63718971, 18.27551526],\n",
              "        [ 0.        ,  3.64982451,  5.19859609,  2.54526181],\n",
              "        [ 0.        ,  4.23182258,  3.85458065, -5.74079031]]),\n",
              " array([[ 0.        ,  0.        ,  0.        ,  0.        ],\n",
              "        [ 1.84147098,  4.36588394, 11.9391228 , 16.98794871],\n",
              "        [ 4.90929743,  7.63718971, 15.82086655, 21.27665111],\n",
              "        [ 9.14112001,  9.56448003, 10.8345601 , 11.68128015]])]"
            ]
          },
          "metadata": {},
          "execution_count": 278
        }
      ],
      "source": [
        "grad_np = np.gradient(data,x,y)\n",
        "grad_np"
      ]
    },
    {
      "cell_type": "markdown",
      "id": "8956884b",
      "metadata": {
        "id": "8956884b"
      },
      "source": [
        "Numpy's gradient method is clearly not accurate enough, and employs a Taylor series approximation which works on Finite Differences for the partial derivatives. I'll use JAX gradient to get better results."
      ]
    },
    {
      "cell_type": "markdown",
      "id": "8e4dfeb5",
      "metadata": {
        "id": "8e4dfeb5"
      },
      "source": [
        "### Using Jax Gradient"
      ]
    },
    {
      "cell_type": "code",
      "execution_count": 279,
      "id": "6f0bb15b",
      "metadata": {
        "colab": {
          "base_uri": "https://localhost:8080/"
        },
        "id": "6f0bb15b",
        "outputId": "83cf6eb8-c1b2-4227-b5bf-df2a17453edd"
      },
      "outputs": [
        {
          "output_type": "execute_result",
          "data": {
            "text/plain": [
              "[array([[0.09769094, 0.2459546 , 0.03400119, 0.00406538],\n",
              "        [0.39999947, 0.77311963, 0.15881099, 0.01954669],\n",
              "        [0.39984643, 0.7728582 , 0.15874736, 0.01953878],\n",
              "        [0.35999355, 0.70460296, 0.14219002, 0.01748253]]),\n",
              " array([[0.05529278, 0.12546422, 0.02931326, 0.02420805],\n",
              "        [0.69520414, 1.00344324, 0.58108497, 0.55865955],\n",
              "        [0.69470799, 1.0028466 , 0.58062607, 0.55820793],\n",
              "        [0.57142317, 0.85247207, 0.46737066, 0.44692343]])]"
            ]
          },
          "metadata": {},
          "execution_count": 279
        }
      ],
      "source": [
        "import jax\n",
        "import jax.numpy as jnp\n",
        "from jax import grad, jit, vmap\n",
        "from jax import random\n",
        "import numpy as np\n",
        "\n",
        "def f(x,y):\n",
        "  return x**2 * y + y**3 * jnp.sin(x)\n",
        "\n",
        "f_x = grad(f,0)\n",
        "f_y = grad(f,1)\n",
        "\n",
        "n=4\n",
        "a = np.random.random(n)\n",
        "b = np.random.random(n)\n",
        "\n",
        "grad_jax_x = np.zeros(n*n).reshape(n,n)\n",
        "\n",
        "for i in range(n):\n",
        "  for j in range(n):\n",
        "    grad_jax_x[i,j] = f_x(a[i],b[j])\n",
        "\n",
        "grad_jax_y = np.zeros(n*n).reshape(n,n)\n",
        "\n",
        "for i in range(n):\n",
        "  for j in range(n):\n",
        "    grad_jax_y[i,j] = f_y(a[i],b[j])\n",
        "\n",
        "grad_jax = [grad_jax_x,grad_jax_y]\n",
        "\n",
        "grad_jax\n",
        "\n"
      ]
    },
    {
      "cell_type": "code",
      "source": [
        "def grad_x(x,y):\n",
        "    return 2*x*y + (y**3)*jnp.cos(x)\n",
        "\n",
        "def grad_y(x,y):\n",
        "    return x**2 + 3*(y**2)*(jnp.sin(x))\n",
        "\n",
        "#finding analytical partial derivative wrt x\n",
        "grad_custom_x=np.zeros(n*n).reshape(n,n)\n",
        "for i in range(len(a)):\n",
        "    for j in range(len(b)):\n",
        "        grad_custom_x[i,j]=grad_x(a[i],b[j])\n",
        "        \n",
        "\n",
        "#finding analytical partial derivative wrt y\n",
        "grad_custom_y=np.zeros(n*n).reshape(n,n)\n",
        "for i in range(len(a)):\n",
        "    for j in range(len(b)):\n",
        "        grad_custom_y[i,j]=grad_y(a[i],b[j])\n",
        "\n",
        "grad_custom=[grad_custom_x,grad_custom_y]\n",
        "grad_custom"
      ],
      "metadata": {
        "colab": {
          "base_uri": "https://localhost:8080/"
        },
        "id": "guRR7bbvqaVG",
        "outputId": "04534fc8-277f-4fa8-9215-06a3bfe386fa"
      },
      "id": "guRR7bbvqaVG",
      "execution_count": 280,
      "outputs": [
        {
          "output_type": "execute_result",
          "data": {
            "text/plain": [
              "[array([[0.09769095, 0.2459546 , 0.0340012 , 0.00406538],\n",
              "        [0.39999947, 0.77311963, 0.158811  , 0.01954669],\n",
              "        [0.39984643, 0.7728582 , 0.15874736, 0.01953878],\n",
              "        [0.35999358, 0.70460296, 0.14219004, 0.01748253]]),\n",
              " array([[0.05529278, 0.12546422, 0.02931326, 0.02420805],\n",
              "        [0.69520414, 1.00344324, 0.58108497, 0.55865955],\n",
              "        [0.69470799, 1.0028466 , 0.58062607, 0.55820793],\n",
              "        [0.57142317, 0.85247207, 0.46737066, 0.44692343]])]"
            ]
          },
          "metadata": {},
          "execution_count": 280
        }
      ]
    },
    {
      "cell_type": "markdown",
      "source": [
        "I've taken a random set of values for x and y and computed the values using jax.grad as well as using the custom analytical solution that I made and both the values match almost entirely.\n",
        "\n",
        "This is a significant improvement from numpy.gradient()"
      ],
      "metadata": {
        "id": "OmG-QhaNrRhk"
      },
      "id": "OmG-QhaNrRhk"
    },
    {
      "cell_type": "markdown",
      "id": "3296a7b9",
      "metadata": {
        "id": "3296a7b9"
      },
      "source": [
        "# Question 6"
      ]
    },
    {
      "cell_type": "markdown",
      "id": "9676110a",
      "metadata": {
        "id": "9676110a"
      },
      "source": [
        "### Using sympy to find a Symbolic Gradient."
      ]
    },
    {
      "cell_type": "code",
      "execution_count": 281,
      "id": "4936f7a3",
      "metadata": {
        "colab": {
          "base_uri": "https://localhost:8080/",
          "height": 58
        },
        "id": "4936f7a3",
        "outputId": "44e5f49e-a312-4c13-e4cc-b8b2f85b3769"
      },
      "outputs": [
        {
          "output_type": "execute_result",
          "data": {
            "text/plain": [
              "Matrix([\n",
              "[ 2*x*y + y**3*cos(x)],\n",
              "[x**2 + 3*y**2*sin(x)]])"
            ],
            "text/latex": "$\\displaystyle \\left[\\begin{matrix}2 x y + y^{3} \\cos{\\left(x \\right)}\\\\x^{2} + 3 y^{2} \\sin{\\left(x \\right)}\\end{matrix}\\right]$"
          },
          "metadata": {},
          "execution_count": 281
        }
      ],
      "source": [
        "import sympy as sp\n",
        "x,y=sp.symbols('x y')\n",
        "\n",
        "f = (x**2)*y + ((y**3)*(sp.sin(x)))\n",
        "\n",
        "grad = sp.Matrix([sp.diff(f,x),sp.diff(f,y)])\n",
        "grad"
      ]
    },
    {
      "cell_type": "markdown",
      "source": [
        "This is the same expression that I evaluated analytically."
      ],
      "metadata": {
        "id": "xuvan8VeC-j-"
      },
      "id": "xuvan8VeC-j-"
    },
    {
      "cell_type": "markdown",
      "id": "e8f35730",
      "metadata": {
        "id": "e8f35730"
      },
      "source": [
        "---"
      ]
    },
    {
      "cell_type": "markdown",
      "id": "8bcf0e5d",
      "metadata": {
        "id": "8bcf0e5d"
      },
      "source": [
        "# Question 13"
      ]
    },
    {
      "cell_type": "code",
      "execution_count": 285,
      "id": "58f92bff",
      "metadata": {
        "id": "58f92bff"
      },
      "outputs": [],
      "source": [
        "A = np.random.randint(0,101,100)\n",
        "\n",
        "def find_min_index(A):\n",
        "    ind=-1\n",
        "    minn=None\n",
        "    n=len(A)\n",
        "    \n",
        "    for i in range(n):\n",
        "        if(minn==None):\n",
        "            minn = A[i]\n",
        "            ind = i\n",
        "        elif(minn>A[i]):\n",
        "            minn = A[i]\n",
        "            ind = i\n",
        "    \n",
        "    return ind"
      ]
    },
    {
      "cell_type": "code",
      "execution_count": 286,
      "id": "b52e990c",
      "metadata": {
        "colab": {
          "base_uri": "https://localhost:8080/"
        },
        "id": "b52e990c",
        "outputId": "ef2b94d2-82f8-4381-af92-e30676a2b001"
      },
      "outputs": [
        {
          "output_type": "execute_result",
          "data": {
            "text/plain": [
              "21"
            ]
          },
          "metadata": {},
          "execution_count": 286
        }
      ],
      "source": [
        "find_min_index(A)"
      ]
    },
    {
      "cell_type": "code",
      "execution_count": 287,
      "id": "dcd51f42",
      "metadata": {
        "colab": {
          "base_uri": "https://localhost:8080/"
        },
        "id": "dcd51f42",
        "outputId": "ff6be097-b8aa-40b8-cb1d-d650bb4a7a37"
      },
      "outputs": [
        {
          "output_type": "execute_result",
          "data": {
            "text/plain": [
              "21"
            ]
          },
          "metadata": {},
          "execution_count": 287
        }
      ],
      "source": [
        "np.argmin(A)"
      ]
    },
    {
      "cell_type": "markdown",
      "id": "0547972c",
      "metadata": {
        "id": "0547972c"
      },
      "source": [
        "My function and Numpy's argmin both return the same answer when we test it on a random input."
      ]
    },
    {
      "cell_type": "markdown",
      "id": "db40f707",
      "metadata": {
        "id": "db40f707"
      },
      "source": [
        "---"
      ]
    },
    {
      "cell_type": "markdown",
      "id": "9b9221b2",
      "metadata": {
        "id": "9b9221b2"
      },
      "source": [
        "# Question 9"
      ]
    },
    {
      "cell_type": "code",
      "execution_count": 288,
      "id": "6579bd09",
      "metadata": {
        "colab": {
          "base_uri": "https://localhost:8080/",
          "height": 34
        },
        "id": "6579bd09",
        "outputId": "ede3aa46-926d-4d76-9821-9fd38f7b720a"
      },
      "outputs": [
        {
          "output_type": "display_data",
          "data": {
            "text/plain": [
              "<Figure size 800x480 with 0 Axes>"
            ]
          },
          "metadata": {}
        }
      ],
      "source": [
        "%matplotlib inline\n",
        "import matplotlib as mpl\n",
        "import matplotlib.pyplot as plt\n",
        "\n",
        "plt.style.use('classic')\n",
        "fig = plt.figure()\n",
        "fig.set_figwidth(10)\n",
        "#ax = plt.axes()"
      ]
    },
    {
      "cell_type": "markdown",
      "id": "29a48594",
      "metadata": {
        "id": "29a48594"
      },
      "source": [
        "### 1. $y=x$"
      ]
    },
    {
      "cell_type": "code",
      "execution_count": 289,
      "id": "cb87e18c",
      "metadata": {
        "colab": {
          "base_uri": "https://localhost:8080/",
          "height": 476
        },
        "id": "cb87e18c",
        "outputId": "f078fd35-a6ac-4782-fab1-92e2baa70011"
      },
      "outputs": [
        {
          "output_type": "execute_result",
          "data": {
            "text/plain": [
              "Text(0, 0.5, 'y=x')"
            ]
          },
          "metadata": {},
          "execution_count": 289
        },
        {
          "output_type": "display_data",
          "data": {
            "text/plain": [
              "<Figure size 640x480 with 1 Axes>"
            ],
            "image/png": "[encoded data removed]"
          },
          "metadata": {}
        }
      ],
      "source": [
        "x=np.linspace(0.5,100,200)\n",
        "#plt.xticks(x)\n",
        "\n",
        "#plt.xticks(x)\n",
        "plt.plot(x,x,'-')\n",
        "plt.xlabel('x')\n",
        "plt.ylabel('y=x')"
      ]
    },
    {
      "cell_type": "markdown",
      "id": "0269d577",
      "metadata": {
        "id": "0269d577"
      },
      "source": [
        "### 2. y = x<sup>2</sup>"
      ]
    },
    {
      "cell_type": "code",
      "execution_count": 290,
      "id": "f26d95ca",
      "metadata": {
        "colab": {
          "base_uri": "https://localhost:8080/",
          "height": 476
        },
        "id": "f26d95ca",
        "outputId": "12fa7543-461f-4884-c933-6ae5ab18a305"
      },
      "outputs": [
        {
          "output_type": "execute_result",
          "data": {
            "text/plain": [
              "Text(0, 0.5, 'y=x*x')"
            ]
          },
          "metadata": {},
          "execution_count": 290
        },
        {
          "output_type": "display_data",
          "data": {
            "text/plain": [
              "<Figure size 640x480 with 1 Axes>"
            ],
            "image/png": "[encoded data removed]"
          },
          "metadata": {}
        }
      ],
      "source": [
        "plt.plot(x,x*x)\n",
        "plt.xlabel('x')\n",
        "plt.ylabel('y=x*x')"
      ]
    },
    {
      "cell_type": "markdown",
      "id": "5066304e",
      "metadata": {
        "id": "5066304e"
      },
      "source": [
        "### 3. y = x<sup>3</sup>/100"
      ]
    },
    {
      "cell_type": "code",
      "execution_count": 291,
      "id": "805f23cd",
      "metadata": {
        "colab": {
          "base_uri": "https://localhost:8080/",
          "height": 457
        },
        "id": "805f23cd",
        "outputId": "72e7d8f0-1b42-4da0-8132-f0cc1f698b46"
      },
      "outputs": [
        {
          "output_type": "execute_result",
          "data": {
            "text/plain": [
              "[<matplotlib.lines.Line2D at 0x7fbf57fe9520>]"
            ]
          },
          "metadata": {},
          "execution_count": 291
        },
        {
          "output_type": "display_data",
          "data": {
            "text/plain": [
              "<Figure size 640x480 with 1 Axes>"
            ],
            "image/png": "[encoded data removed]"
          },
          "metadata": {}
        }
      ],
      "source": [
        "plt.plot(x,x*x*x/100)\n"
      ]
    },
    {
      "cell_type": "markdown",
      "id": "0a411e90",
      "metadata": {
        "id": "0a411e90"
      },
      "source": [
        "### 4. y=sin(x)"
      ]
    },
    {
      "cell_type": "code",
      "execution_count": 292,
      "id": "10f96f78",
      "metadata": {
        "colab": {
          "base_uri": "https://localhost:8080/",
          "height": 476
        },
        "id": "10f96f78",
        "outputId": "66ee1372-87c4-4925-cf1e-31ee21e7e417"
      },
      "outputs": [
        {
          "output_type": "execute_result",
          "data": {
            "text/plain": [
              "Text(0, 0.5, 'sin(x)')"
            ]
          },
          "metadata": {},
          "execution_count": 292
        },
        {
          "output_type": "display_data",
          "data": {
            "text/plain": [
              "<Figure size 640x480 with 1 Axes>"
            ],
            "image/png": "[encoded data removed]"
          },
          "metadata": {}
        }
      ],
      "source": [
        "plt.plot(x,np.sin(x))\n",
        "plt.xlabel('x')\n",
        "plt.ylabel('sin(x)')"
      ]
    },
    {
      "cell_type": "markdown",
      "id": "2b66d634",
      "metadata": {
        "id": "2b66d634"
      },
      "source": [
        "### 5. y=$sin(x)/x$"
      ]
    },
    {
      "cell_type": "code",
      "execution_count": 293,
      "id": "f7f80c0b",
      "metadata": {
        "colab": {
          "base_uri": "https://localhost:8080/",
          "height": 476
        },
        "id": "f7f80c0b",
        "outputId": "e2e04618-26c5-4f7b-9f5f-8e2f493ecc7f"
      },
      "outputs": [
        {
          "output_type": "execute_result",
          "data": {
            "text/plain": [
              "Text(0, 0.5, 'cos(x)')"
            ]
          },
          "metadata": {},
          "execution_count": 293
        },
        {
          "output_type": "display_data",
          "data": {
            "text/plain": [
              "<Figure size 640x480 with 1 Axes>"
            ],
            "image/png": "[encoded data removed]"
          },
          "metadata": {}
        }
      ],
      "source": [
        "plt.plot(x,np.sin(x)/x)\n",
        "plt.xlabel('x')\n",
        "plt.ylabel('cos(x)')"
      ]
    },
    {
      "cell_type": "markdown",
      "id": "8f20cfd1",
      "metadata": {
        "id": "8f20cfd1"
      },
      "source": [
        "### 6. y = log(x)"
      ]
    },
    {
      "cell_type": "code",
      "execution_count": 294,
      "id": "34b933a3",
      "metadata": {
        "colab": {
          "base_uri": "https://localhost:8080/",
          "height": 476
        },
        "id": "34b933a3",
        "outputId": "4b2ba15f-688e-4f33-a585-b43f90d6920f"
      },
      "outputs": [
        {
          "output_type": "execute_result",
          "data": {
            "text/plain": [
              "Text(0, 0.5, 'log(x)')"
            ]
          },
          "metadata": {},
          "execution_count": 294
        },
        {
          "output_type": "display_data",
          "data": {
            "text/plain": [
              "<Figure size 640x480 with 1 Axes>"
            ],
            "image/png": "[encoded data removed]"
          },
          "metadata": {}
        }
      ],
      "source": [
        "plt.plot(x,np.log(x))\n",
        "plt.xlabel('x')\n",
        "plt.ylabel('log(x)')"
      ]
    },
    {
      "cell_type": "markdown",
      "id": "285e225f",
      "metadata": {
        "id": "285e225f"
      },
      "source": [
        "### 7. y = e<sup>x</sup>"
      ]
    },
    {
      "cell_type": "code",
      "execution_count": 295,
      "id": "dc1f983e",
      "metadata": {
        "colab": {
          "base_uri": "https://localhost:8080/",
          "height": 483
        },
        "id": "dc1f983e",
        "outputId": "4d0193da-b078-4712-8233-9356428022a7"
      },
      "outputs": [
        {
          "output_type": "execute_result",
          "data": {
            "text/plain": [
              "Text(0, 0.5, 'exp(x)')"
            ]
          },
          "metadata": {},
          "execution_count": 295
        },
        {
          "output_type": "display_data",
          "data": {
            "text/plain": [
              "<Figure size 640x480 with 1 Axes>"
            ],
            "image/png": "[encoded data removed]"
          },
          "metadata": {}
        }
      ],
      "source": [
        "plt.plot(x,np.exp(x))\n",
        "plt.xlabel('x')\n",
        "plt.ylabel('exp(x)')"
      ]
    },
    {
      "cell_type": "markdown",
      "id": "9e7e0fce",
      "metadata": {
        "id": "9e7e0fce"
      },
      "source": [
        "---"
      ]
    },
    {
      "cell_type": "markdown",
      "id": "9263e391",
      "metadata": {
        "id": "9263e391"
      },
      "source": [
        "# Question 10"
      ]
    },
    {
      "cell_type": "code",
      "execution_count": 298,
      "id": "08dbae86",
      "metadata": {
        "id": "08dbae86"
      },
      "outputs": [],
      "source": [
        "import pandas as pd\n",
        "A = np.random.uniform(1,2,100).reshape(20,5)\n",
        "#A"
      ]
    },
    {
      "cell_type": "code",
      "execution_count": 299,
      "id": "de60ef1b",
      "metadata": {
        "colab": {
          "base_uri": "https://localhost:8080/",
          "height": 676
        },
        "id": "de60ef1b",
        "outputId": "631fc51e-c623-4ff0-c3fd-50504dbdc82a"
      },
      "outputs": [
        {
          "output_type": "execute_result",
          "data": {
            "text/plain": [
              "           a         b         c         d         e\n",
              "0   1.319112  1.021682  1.266039  1.594180  1.455494\n",
              "1   1.150406  1.486955  1.624138  1.992061  1.004874\n",
              "2   1.666908  1.823422  1.547093  1.738555  1.480953\n",
              "3   1.095392  1.417316  1.274506  1.779664  1.597582\n",
              "4   1.147624  1.853003  1.982625  1.756058  1.197296\n",
              "5   1.826129  1.883796  1.028797  1.383165  1.981800\n",
              "6   1.564275  1.110537  1.130321  1.656417  1.971950\n",
              "7   1.471149  1.513537  1.411921  1.158253  1.283966\n",
              "8   1.905785  1.147586  1.738839  1.527732  1.459128\n",
              "9   1.685564  1.577160  1.688940  1.145571  1.467242\n",
              "10  1.546389  1.176274  1.513629  1.029755  1.623658\n",
              "11  1.644947  1.289396  1.885215  1.851384  1.613128\n",
              "12  1.533240  1.963714  1.032260  1.849091  1.106730\n",
              "13  1.692414  1.326288  1.508195  1.961814  1.759373\n",
              "14  1.546147  1.049064  1.479271  1.545403  1.839436\n",
              "15  1.528101  1.520611  1.228459  1.810794  1.190583\n",
              "16  1.299036  1.436241  1.523909  1.366532  1.325820\n",
              "17  1.308544  1.226209  1.179672  1.086510  1.597280\n",
              "18  1.695930  1.282311  1.997914  1.673874  1.065229\n",
              "19  1.493470  1.255178  1.851513  1.379020  1.940456"
            ],
            "text/html": [
              "\n",
              "  <div id=\"df-17eeba13-7abf-4c23-9d70-61629fc5bce5\">\n",
              "    <div class=\"colab-df-container\">\n",
              "      <div>\n",
              "<style scoped>\n",
              "    .dataframe tbody tr th:only-of-type {\n",
              "        vertical-align: middle;\n",
              "    }\n",
              "\n",
              "    .dataframe tbody tr th {\n",
              "        vertical-align: top;\n",
              "    }\n",
              "\n",
              "    .dataframe thead th {\n",
              "        text-align: right;\n",
              "    }\n",
              "</style>\n",
              "<table border=\"1\" class=\"dataframe\">\n",
              "  <thead>\n",
              "    <tr style=\"text-align: right;\">\n",
              "      <th></th>\n",
              "      <th>a</th>\n",
              "      <th>b</th>\n",
              "      <th>c</th>\n",
              "      <th>d</th>\n",
              "      <th>e</th>\n",
              "    </tr>\n",
              "  </thead>\n",
              "  <tbody>\n",
              "    <tr>\n",
              "      <th>0</th>\n",
              "      <td>1.319112</td>\n",
              "      <td>1.021682</td>\n",
              "      <td>1.266039</td>\n",
              "      <td>1.594180</td>\n",
              "      <td>1.455494</td>\n",
              "    </tr>\n",
              "    <tr>\n",
              "      <th>1</th>\n",
              "      <td>1.150406</td>\n",
              "      <td>1.486955</td>\n",
              "      <td>1.624138</td>\n",
              "      <td>1.992061</td>\n",
              "      <td>1.004874</td>\n",
              "    </tr>\n",
              "    <tr>\n",
              "      <th>2</th>\n",
              "      <td>1.666908</td>\n",
              "      <td>1.823422</td>\n",
              "      <td>1.547093</td>\n",
              "      <td>1.738555</td>\n",
              "      <td>1.480953</td>\n",
              "    </tr>\n",
              "    <tr>\n",
              "      <th>3</th>\n",
              "      <td>1.095392</td>\n",
              "      <td>1.417316</td>\n",
              "      <td>1.274506</td>\n",
              "      <td>1.779664</td>\n",
              "      <td>1.597582</td>\n",
              "    </tr>\n",
              "    <tr>\n",
              "      <th>4</th>\n",
              "      <td>1.147624</td>\n",
              "      <td>1.853003</td>\n",
              "      <td>1.982625</td>\n",
              "      <td>1.756058</td>\n",
              "      <td>1.197296</td>\n",
              "    </tr>\n",
              "    <tr>\n",
              "      <th>5</th>\n",
              "      <td>1.826129</td>\n",
              "      <td>1.883796</td>\n",
              "      <td>1.028797</td>\n",
              "      <td>1.383165</td>\n",
              "      <td>1.981800</td>\n",
              "    </tr>\n",
              "    <tr>\n",
              "      <th>6</th>\n",
              "      <td>1.564275</td>\n",
              "      <td>1.110537</td>\n",
              "      <td>1.130321</td>\n",
              "      <td>1.656417</td>\n",
              "      <td>1.971950</td>\n",
              "    </tr>\n",
              "    <tr>\n",
              "      <th>7</th>\n",
              "      <td>1.471149</td>\n",
              "      <td>1.513537</td>\n",
              "      <td>1.411921</td>\n",
              "      <td>1.158253</td>\n",
              "      <td>1.283966</td>\n",
              "    </tr>\n",
              "    <tr>\n",
              "      <th>8</th>\n",
              "      <td>1.905785</td>\n",
              "      <td>1.147586</td>\n",
              "      <td>1.738839</td>\n",
              "      <td>1.527732</td>\n",
              "      <td>1.459128</td>\n",
              "    </tr>\n",
              "    <tr>\n",
              "      <th>9</th>\n",
              "      <td>1.685564</td>\n",
              "      <td>1.577160</td>\n",
              "      <td>1.688940</td>\n",
              "      <td>1.145571</td>\n",
              "      <td>1.467242</td>\n",
              "    </tr>\n",
              "    <tr>\n",
              "      <th>10</th>\n",
              "      <td>1.546389</td>\n",
              "      <td>1.176274</td>\n",
              "      <td>1.513629</td>\n",
              "      <td>1.029755</td>\n",
              "      <td>1.623658</td>\n",
              "    </tr>\n",
              "    <tr>\n",
              "      <th>11</th>\n",
              "      <td>1.644947</td>\n",
              "      <td>1.289396</td>\n",
              "      <td>1.885215</td>\n",
              "      <td>1.851384</td>\n",
              "      <td>1.613128</td>\n",
              "    </tr>\n",
              "    <tr>\n",
              "      <th>12</th>\n",
              "      <td>1.533240</td>\n",
              "      <td>1.963714</td>\n",
              "      <td>1.032260</td>\n",
              "      <td>1.849091</td>\n",
              "      <td>1.106730</td>\n",
              "    </tr>\n",
              "    <tr>\n",
              "      <th>13</th>\n",
              "      <td>1.692414</td>\n",
              "      <td>1.326288</td>\n",
              "      <td>1.508195</td>\n",
              "      <td>1.961814</td>\n",
              "      <td>1.759373</td>\n",
              "    </tr>\n",
              "    <tr>\n",
              "      <th>14</th>\n",
              "      <td>1.546147</td>\n",
              "      <td>1.049064</td>\n",
              "      <td>1.479271</td>\n",
              "      <td>1.545403</td>\n",
              "      <td>1.839436</td>\n",
              "    </tr>\n",
              "    <tr>\n",
              "      <th>15</th>\n",
              "      <td>1.528101</td>\n",
              "      <td>1.520611</td>\n",
              "      <td>1.228459</td>\n",
              "      <td>1.810794</td>\n",
              "      <td>1.190583</td>\n",
              "    </tr>\n",
              "    <tr>\n",
              "      <th>16</th>\n",
              "      <td>1.299036</td>\n",
              "      <td>1.436241</td>\n",
              "      <td>1.523909</td>\n",
              "      <td>1.366532</td>\n",
              "      <td>1.325820</td>\n",
              "    </tr>\n",
              "    <tr>\n",
              "      <th>17</th>\n",
              "      <td>1.308544</td>\n",
              "      <td>1.226209</td>\n",
              "      <td>1.179672</td>\n",
              "      <td>1.086510</td>\n",
              "      <td>1.597280</td>\n",
              "    </tr>\n",
              "    <tr>\n",
              "      <th>18</th>\n",
              "      <td>1.695930</td>\n",
              "      <td>1.282311</td>\n",
              "      <td>1.997914</td>\n",
              "      <td>1.673874</td>\n",
              "      <td>1.065229</td>\n",
              "    </tr>\n",
              "    <tr>\n",
              "      <th>19</th>\n",
              "      <td>1.493470</td>\n",
              "      <td>1.255178</td>\n",
              "      <td>1.851513</td>\n",
              "      <td>1.379020</td>\n",
              "      <td>1.940456</td>\n",
              "    </tr>\n",
              "  </tbody>\n",
              "</table>\n",
              "</div>\n",
              "      <button class=\"colab-df-convert\" onclick=\"convertToInteractive('df-17eeba13-7abf-4c23-9d70-61629fc5bce5')\"\n",
              "              title=\"Convert this dataframe to an interactive table.\"\n",
              "              style=\"display:none;\">\n",
              "        \n",
              "  <svg xmlns=\"http://www.w3.org/2000/svg\" height=\"24px\"viewBox=\"0 0 24 24\"\n",
              "       width=\"24px\">\n",
              "    <path d=\"M0 0h24v24H0V0z\" fill=\"none\"/>\n",
              "    <path d=\"M18.56 5.44l.94 2.06.94-2.06 2.06-.94-2.06-.94-.94-2.06-.94 2.06-2.06.94zm-11 1L8.5 8.5l.94-2.06 2.06-.94-2.06-.94L8.5 2.5l-.94 2.06-2.06.94zm10 10l.94 2.06.94-2.06 2.06-.94-2.06-.94-.94-2.06-.94 2.06-2.06.94z\"/><path d=\"M17.41 7.96l-1.37-1.37c-.4-.4-.92-.59-1.43-.59-.52 0-1.04.2-1.43.59L10.3 9.45l-7.72 7.72c-.78.78-.78 2.05 0 2.83L4 21.41c.39.39.9.59 1.41.59.51 0 1.02-.2 1.41-.59l7.78-7.78 2.81-2.81c.8-.78.8-2.07 0-2.86zM5.41 20L4 18.59l7.72-7.72 1.47 1.35L5.41 20z\"/>\n",
              "  </svg>\n",
              "      </button>\n",
              "      \n",
              "  <style>\n",
              "    .colab-df-container {\n",
              "      display:flex;\n",
              "      flex-wrap:wrap;\n",
              "      gap: 12px;\n",
              "    }\n",
              "\n",
              "    .colab-df-convert {\n",
              "      background-color: #E8F0FE;\n",
              "      border: none;\n",
              "      border-radius: 50%;\n",
              "      cursor: pointer;\n",
              "      display: none;\n",
              "      fill: #1967D2;\n",
              "      height: 32px;\n",
              "      padding: 0 0 0 0;\n",
              "      width: 32px;\n",
              "    }\n",
              "\n",
              "    .colab-df-convert:hover {\n",
              "      background-color: #E2EBFA;\n",
              "      box-shadow: 0px 1px 2px rgba(60, 64, 67, 0.3), 0px 1px 3px 1px rgba(60, 64, 67, 0.15);\n",
              "      fill: #174EA6;\n",
              "    }\n",
              "\n",
              "    [theme=dark] .colab-df-convert {\n",
              "      background-color: #3B4455;\n",
              "      fill: #D2E3FC;\n",
              "    }\n",
              "\n",
              "    [theme=dark] .colab-df-convert:hover {\n",
              "      background-color: #434B5C;\n",
              "      box-shadow: 0px 1px 3px 1px rgba(0, 0, 0, 0.15);\n",
              "      filter: drop-shadow(0px 1px 2px rgba(0, 0, 0, 0.3));\n",
              "      fill: #FFFFFF;\n",
              "    }\n",
              "  </style>\n",
              "\n",
              "      <script>\n",
              "        const buttonEl =\n",
              "          document.querySelector('#df-17eeba13-7abf-4c23-9d70-61629fc5bce5 button.colab-df-convert');\n",
              "        buttonEl.style.display =\n",
              "          google.colab.kernel.accessAllowed ? 'block' : 'none';\n",
              "\n",
              "        async function convertToInteractive(key) {\n",
              "          const element = document.querySelector('#df-17eeba13-7abf-4c23-9d70-61629fc5bce5');\n",
              "          const dataTable =\n",
              "            await google.colab.kernel.invokeFunction('convertToInteractive',\n",
              "                                                     [key], {});\n",
              "          if (!dataTable) return;\n",
              "\n",
              "          const docLinkHtml = 'Like what you see? Visit the ' +\n",
              "            '<a target=\"_blank\" href=https://colab.research.google.com/notebooks/data_table.ipynb>data table notebook</a>'\n",
              "            + ' to learn more about interactive tables.';\n",
              "          element.innerHTML = '';\n",
              "          dataTable['output_type'] = 'display_data';\n",
              "          await google.colab.output.renderOutput(dataTable, element);\n",
              "          const docLink = document.createElement('div');\n",
              "          docLink.innerHTML = docLinkHtml;\n",
              "          element.appendChild(docLink);\n",
              "        }\n",
              "      </script>\n",
              "    </div>\n",
              "  </div>\n",
              "  "
            ]
          },
          "metadata": {},
          "execution_count": 299
        }
      ],
      "source": [
        "nums = pd.DataFrame(A,columns=['a','b','c','d','e'])\n",
        "nums"
      ]
    },
    {
      "cell_type": "markdown",
      "id": "20c40943",
      "metadata": {
        "id": "20c40943"
      },
      "source": [
        "### Finding Column with largest Standard Deviation"
      ]
    },
    {
      "cell_type": "code",
      "execution_count": 300,
      "id": "33e1b420",
      "metadata": {
        "colab": {
          "base_uri": "https://localhost:8080/"
        },
        "id": "33e1b420",
        "outputId": "e7485b7c-1d7a-432e-b263-aed03c26291f"
      },
      "outputs": [
        {
          "output_type": "stream",
          "name": "stdout",
          "text": [
            "e\n"
          ]
        }
      ],
      "source": [
        "maxx= None\n",
        "col = None\n",
        "\n",
        "for c in nums.columns:\n",
        "    if(maxx==None and col==None):\n",
        "        maxx = nums[c].std()\n",
        "        col = c\n",
        "    elif(maxx<nums[c].std()):\n",
        "        maxx = nums[c].std()\n",
        "        col = c\n",
        "    #print(nums[c].std())\n",
        "\n",
        "print(col)    "
      ]
    },
    {
      "cell_type": "markdown",
      "id": "4078f862",
      "metadata": {
        "id": "4078f862"
      },
      "source": [
        "### Finding Row with Smallest Mean"
      ]
    },
    {
      "cell_type": "code",
      "execution_count": 301,
      "id": "88495ac7",
      "metadata": {
        "colab": {
          "base_uri": "https://localhost:8080/"
        },
        "id": "88495ac7",
        "outputId": "43420075-4906-42e3-85d5-b1af5120c933"
      },
      "outputs": [
        {
          "output_type": "stream",
          "name": "stdout",
          "text": [
            "17\n"
          ]
        }
      ],
      "source": [
        "loww = None\n",
        "row = None\n",
        "\n",
        "def find_mean(A):\n",
        "    sum=0\n",
        "    for num in A:\n",
        "        sum+=num\n",
        "    \n",
        "    return sum/len(A)\n",
        "\n",
        "for i in range(len(nums.values)):\n",
        "    if(loww==None and row==None):\n",
        "        loww=find_mean(nums.values[i])\n",
        "        row=i\n",
        "    elif(loww>find_mean(nums.values[i])):\n",
        "        loww=find_mean(nums.values[i])\n",
        "        row=i\n",
        "\n",
        "print(row)    "
      ]
    },
    {
      "cell_type": "markdown",
      "id": "f505b65a",
      "metadata": {
        "id": "f505b65a"
      },
      "source": [
        "---"
      ]
    },
    {
      "cell_type": "markdown",
      "id": "7e4cc6c5",
      "metadata": {
        "id": "7e4cc6c5"
      },
      "source": [
        "# Question 11"
      ]
    },
    {
      "cell_type": "code",
      "execution_count": 302,
      "id": "5685ea93",
      "metadata": {
        "colab": {
          "base_uri": "https://localhost:8080/",
          "height": 676
        },
        "id": "5685ea93",
        "outputId": "5d0cc196-a96d-4fc8-d991-d8a3dfb756fd"
      },
      "outputs": [
        {
          "output_type": "execute_result",
          "data": {
            "text/plain": [
              "           a         b         c         d         e\n",
              "0   1.319112  1.021682  1.266039  1.594180  1.455494\n",
              "1   1.150406  1.486955  1.624138  1.992061  1.004874\n",
              "2   1.666908  1.823422  1.547093  1.738555  1.480953\n",
              "3   1.095392  1.417316  1.274506  1.779664  1.597582\n",
              "4   1.147624  1.853003  1.982625  1.756058  1.197296\n",
              "5   1.826129  1.883796  1.028797  1.383165  1.981800\n",
              "6   1.564275  1.110537  1.130321  1.656417  1.971950\n",
              "7   1.471149  1.513537  1.411921  1.158253  1.283966\n",
              "8   1.905785  1.147586  1.738839  1.527732  1.459128\n",
              "9   1.685564  1.577160  1.688940  1.145571  1.467242\n",
              "10  1.546389  1.176274  1.513629  1.029755  1.623658\n",
              "11  1.644947  1.289396  1.885215  1.851384  1.613128\n",
              "12  1.533240  1.963714  1.032260  1.849091  1.106730\n",
              "13  1.692414  1.326288  1.508195  1.961814  1.759373\n",
              "14  1.546147  1.049064  1.479271  1.545403  1.839436\n",
              "15  1.528101  1.520611  1.228459  1.810794  1.190583\n",
              "16  1.299036  1.436241  1.523909  1.366532  1.325820\n",
              "17  1.308544  1.226209  1.179672  1.086510  1.597280\n",
              "18  1.695930  1.282311  1.997914  1.673874  1.065229\n",
              "19  1.493470  1.255178  1.851513  1.379020  1.940456"
            ],
            "text/html": [
              "\n",
              "  <div id=\"df-87dd6d7c-d07e-44d5-a72a-ae76ea25295e\">\n",
              "    <div class=\"colab-df-container\">\n",
              "      <div>\n",
              "<style scoped>\n",
              "    .dataframe tbody tr th:only-of-type {\n",
              "        vertical-align: middle;\n",
              "    }\n",
              "\n",
              "    .dataframe tbody tr th {\n",
              "        vertical-align: top;\n",
              "    }\n",
              "\n",
              "    .dataframe thead th {\n",
              "        text-align: right;\n",
              "    }\n",
              "</style>\n",
              "<table border=\"1\" class=\"dataframe\">\n",
              "  <thead>\n",
              "    <tr style=\"text-align: right;\">\n",
              "      <th></th>\n",
              "      <th>a</th>\n",
              "      <th>b</th>\n",
              "      <th>c</th>\n",
              "      <th>d</th>\n",
              "      <th>e</th>\n",
              "    </tr>\n",
              "  </thead>\n",
              "  <tbody>\n",
              "    <tr>\n",
              "      <th>0</th>\n",
              "      <td>1.319112</td>\n",
              "      <td>1.021682</td>\n",
              "      <td>1.266039</td>\n",
              "      <td>1.594180</td>\n",
              "      <td>1.455494</td>\n",
              "    </tr>\n",
              "    <tr>\n",
              "      <th>1</th>\n",
              "      <td>1.150406</td>\n",
              "      <td>1.486955</td>\n",
              "      <td>1.624138</td>\n",
              "      <td>1.992061</td>\n",
              "      <td>1.004874</td>\n",
              "    </tr>\n",
              "    <tr>\n",
              "      <th>2</th>\n",
              "      <td>1.666908</td>\n",
              "      <td>1.823422</td>\n",
              "      <td>1.547093</td>\n",
              "      <td>1.738555</td>\n",
              "      <td>1.480953</td>\n",
              "    </tr>\n",
              "    <tr>\n",
              "      <th>3</th>\n",
              "      <td>1.095392</td>\n",
              "      <td>1.417316</td>\n",
              "      <td>1.274506</td>\n",
              "      <td>1.779664</td>\n",
              "      <td>1.597582</td>\n",
              "    </tr>\n",
              "    <tr>\n",
              "      <th>4</th>\n",
              "      <td>1.147624</td>\n",
              "      <td>1.853003</td>\n",
              "      <td>1.982625</td>\n",
              "      <td>1.756058</td>\n",
              "      <td>1.197296</td>\n",
              "    </tr>\n",
              "    <tr>\n",
              "      <th>5</th>\n",
              "      <td>1.826129</td>\n",
              "      <td>1.883796</td>\n",
              "      <td>1.028797</td>\n",
              "      <td>1.383165</td>\n",
              "      <td>1.981800</td>\n",
              "    </tr>\n",
              "    <tr>\n",
              "      <th>6</th>\n",
              "      <td>1.564275</td>\n",
              "      <td>1.110537</td>\n",
              "      <td>1.130321</td>\n",
              "      <td>1.656417</td>\n",
              "      <td>1.971950</td>\n",
              "    </tr>\n",
              "    <tr>\n",
              "      <th>7</th>\n",
              "      <td>1.471149</td>\n",
              "      <td>1.513537</td>\n",
              "      <td>1.411921</td>\n",
              "      <td>1.158253</td>\n",
              "      <td>1.283966</td>\n",
              "    </tr>\n",
              "    <tr>\n",
              "      <th>8</th>\n",
              "      <td>1.905785</td>\n",
              "      <td>1.147586</td>\n",
              "      <td>1.738839</td>\n",
              "      <td>1.527732</td>\n",
              "      <td>1.459128</td>\n",
              "    </tr>\n",
              "    <tr>\n",
              "      <th>9</th>\n",
              "      <td>1.685564</td>\n",
              "      <td>1.577160</td>\n",
              "      <td>1.688940</td>\n",
              "      <td>1.145571</td>\n",
              "      <td>1.467242</td>\n",
              "    </tr>\n",
              "    <tr>\n",
              "      <th>10</th>\n",
              "      <td>1.546389</td>\n",
              "      <td>1.176274</td>\n",
              "      <td>1.513629</td>\n",
              "      <td>1.029755</td>\n",
              "      <td>1.623658</td>\n",
              "    </tr>\n",
              "    <tr>\n",
              "      <th>11</th>\n",
              "      <td>1.644947</td>\n",
              "      <td>1.289396</td>\n",
              "      <td>1.885215</td>\n",
              "      <td>1.851384</td>\n",
              "      <td>1.613128</td>\n",
              "    </tr>\n",
              "    <tr>\n",
              "      <th>12</th>\n",
              "      <td>1.533240</td>\n",
              "      <td>1.963714</td>\n",
              "      <td>1.032260</td>\n",
              "      <td>1.849091</td>\n",
              "      <td>1.106730</td>\n",
              "    </tr>\n",
              "    <tr>\n",
              "      <th>13</th>\n",
              "      <td>1.692414</td>\n",
              "      <td>1.326288</td>\n",
              "      <td>1.508195</td>\n",
              "      <td>1.961814</td>\n",
              "      <td>1.759373</td>\n",
              "    </tr>\n",
              "    <tr>\n",
              "      <th>14</th>\n",
              "      <td>1.546147</td>\n",
              "      <td>1.049064</td>\n",
              "      <td>1.479271</td>\n",
              "      <td>1.545403</td>\n",
              "      <td>1.839436</td>\n",
              "    </tr>\n",
              "    <tr>\n",
              "      <th>15</th>\n",
              "      <td>1.528101</td>\n",
              "      <td>1.520611</td>\n",
              "      <td>1.228459</td>\n",
              "      <td>1.810794</td>\n",
              "      <td>1.190583</td>\n",
              "    </tr>\n",
              "    <tr>\n",
              "      <th>16</th>\n",
              "      <td>1.299036</td>\n",
              "      <td>1.436241</td>\n",
              "      <td>1.523909</td>\n",
              "      <td>1.366532</td>\n",
              "      <td>1.325820</td>\n",
              "    </tr>\n",
              "    <tr>\n",
              "      <th>17</th>\n",
              "      <td>1.308544</td>\n",
              "      <td>1.226209</td>\n",
              "      <td>1.179672</td>\n",
              "      <td>1.086510</td>\n",
              "      <td>1.597280</td>\n",
              "    </tr>\n",
              "    <tr>\n",
              "      <th>18</th>\n",
              "      <td>1.695930</td>\n",
              "      <td>1.282311</td>\n",
              "      <td>1.997914</td>\n",
              "      <td>1.673874</td>\n",
              "      <td>1.065229</td>\n",
              "    </tr>\n",
              "    <tr>\n",
              "      <th>19</th>\n",
              "      <td>1.493470</td>\n",
              "      <td>1.255178</td>\n",
              "      <td>1.851513</td>\n",
              "      <td>1.379020</td>\n",
              "      <td>1.940456</td>\n",
              "    </tr>\n",
              "  </tbody>\n",
              "</table>\n",
              "</div>\n",
              "      <button class=\"colab-df-convert\" onclick=\"convertToInteractive('df-87dd6d7c-d07e-44d5-a72a-ae76ea25295e')\"\n",
              "              title=\"Convert this dataframe to an interactive table.\"\n",
              "              style=\"display:none;\">\n",
              "        \n",
              "  <svg xmlns=\"http://www.w3.org/2000/svg\" height=\"24px\"viewBox=\"0 0 24 24\"\n",
              "       width=\"24px\">\n",
              "    <path d=\"M0 0h24v24H0V0z\" fill=\"none\"/>\n",
              "    <path d=\"M18.56 5.44l.94 2.06.94-2.06 2.06-.94-2.06-.94-.94-2.06-.94 2.06-2.06.94zm-11 1L8.5 8.5l.94-2.06 2.06-.94-2.06-.94L8.5 2.5l-.94 2.06-2.06.94zm10 10l.94 2.06.94-2.06 2.06-.94-2.06-.94-.94-2.06-.94 2.06-2.06.94z\"/><path d=\"M17.41 7.96l-1.37-1.37c-.4-.4-.92-.59-1.43-.59-.52 0-1.04.2-1.43.59L10.3 9.45l-7.72 7.72c-.78.78-.78 2.05 0 2.83L4 21.41c.39.39.9.59 1.41.59.51 0 1.02-.2 1.41-.59l7.78-7.78 2.81-2.81c.8-.78.8-2.07 0-2.86zM5.41 20L4 18.59l7.72-7.72 1.47 1.35L5.41 20z\"/>\n",
              "  </svg>\n",
              "      </button>\n",
              "      \n",
              "  <style>\n",
              "    .colab-df-container {\n",
              "      display:flex;\n",
              "      flex-wrap:wrap;\n",
              "      gap: 12px;\n",
              "    }\n",
              "\n",
              "    .colab-df-convert {\n",
              "      background-color: #E8F0FE;\n",
              "      border: none;\n",
              "      border-radius: 50%;\n",
              "      cursor: pointer;\n",
              "      display: none;\n",
              "      fill: #1967D2;\n",
              "      height: 32px;\n",
              "      padding: 0 0 0 0;\n",
              "      width: 32px;\n",
              "    }\n",
              "\n",
              "    .colab-df-convert:hover {\n",
              "      background-color: #E2EBFA;\n",
              "      box-shadow: 0px 1px 2px rgba(60, 64, 67, 0.3), 0px 1px 3px 1px rgba(60, 64, 67, 0.15);\n",
              "      fill: #174EA6;\n",
              "    }\n",
              "\n",
              "    [theme=dark] .colab-df-convert {\n",
              "      background-color: #3B4455;\n",
              "      fill: #D2E3FC;\n",
              "    }\n",
              "\n",
              "    [theme=dark] .colab-df-convert:hover {\n",
              "      background-color: #434B5C;\n",
              "      box-shadow: 0px 1px 3px 1px rgba(0, 0, 0, 0.15);\n",
              "      filter: drop-shadow(0px 1px 2px rgba(0, 0, 0, 0.3));\n",
              "      fill: #FFFFFF;\n",
              "    }\n",
              "  </style>\n",
              "\n",
              "      <script>\n",
              "        const buttonEl =\n",
              "          document.querySelector('#df-87dd6d7c-d07e-44d5-a72a-ae76ea25295e button.colab-df-convert');\n",
              "        buttonEl.style.display =\n",
              "          google.colab.kernel.accessAllowed ? 'block' : 'none';\n",
              "\n",
              "        async function convertToInteractive(key) {\n",
              "          const element = document.querySelector('#df-87dd6d7c-d07e-44d5-a72a-ae76ea25295e');\n",
              "          const dataTable =\n",
              "            await google.colab.kernel.invokeFunction('convertToInteractive',\n",
              "                                                     [key], {});\n",
              "          if (!dataTable) return;\n",
              "\n",
              "          const docLinkHtml = 'Like what you see? Visit the ' +\n",
              "            '<a target=\"_blank\" href=https://colab.research.google.com/notebooks/data_table.ipynb>data table notebook</a>'\n",
              "            + ' to learn more about interactive tables.';\n",
              "          element.innerHTML = '';\n",
              "          dataTable['output_type'] = 'display_data';\n",
              "          await google.colab.output.renderOutput(dataTable, element);\n",
              "          const docLink = document.createElement('div');\n",
              "          docLink.innerHTML = docLinkHtml;\n",
              "          element.appendChild(docLink);\n",
              "        }\n",
              "      </script>\n",
              "    </div>\n",
              "  </div>\n",
              "  "
            ]
          },
          "metadata": {},
          "execution_count": 302
        }
      ],
      "source": [
        "nums"
      ]
    },
    {
      "cell_type": "code",
      "execution_count": 303,
      "id": "824f1cec",
      "metadata": {
        "colab": {
          "base_uri": "https://localhost:8080/",
          "height": 676
        },
        "id": "824f1cec",
        "outputId": "32822037-c963-4582-99bd-c18d8131f8ea"
      },
      "outputs": [
        {
          "output_type": "execute_result",
          "data": {
            "text/plain": [
              "           a         b         c         d         e         f    g\n",
              "0   1.319112  1.021682  1.266039  1.594180  1.455494  6.656506  LT8\n",
              "1   1.150406  1.486955  1.624138  1.992061  1.004874  7.258434  LT8\n",
              "2   1.666908  1.823422  1.547093  1.738555  1.480953  8.256931  GT8\n",
              "3   1.095392  1.417316  1.274506  1.779664  1.597582  7.164460  LT8\n",
              "4   1.147624  1.853003  1.982625  1.756058  1.197296  7.936606  LT8\n",
              "5   1.826129  1.883796  1.028797  1.383165  1.981800  8.103687  GT8\n",
              "6   1.564275  1.110537  1.130321  1.656417  1.971950  7.433500  LT8\n",
              "7   1.471149  1.513537  1.411921  1.158253  1.283966  6.838827  LT8\n",
              "8   1.905785  1.147586  1.738839  1.527732  1.459128  7.779070  LT8\n",
              "9   1.685564  1.577160  1.688940  1.145571  1.467242  7.564476  LT8\n",
              "10  1.546389  1.176274  1.513629  1.029755  1.623658  6.889706  LT8\n",
              "11  1.644947  1.289396  1.885215  1.851384  1.613128  8.284069  GT8\n",
              "12  1.533240  1.963714  1.032260  1.849091  1.106730  7.485035  LT8\n",
              "13  1.692414  1.326288  1.508195  1.961814  1.759373  8.248084  GT8\n",
              "14  1.546147  1.049064  1.479271  1.545403  1.839436  7.459321  LT8\n",
              "15  1.528101  1.520611  1.228459  1.810794  1.190583  7.278548  LT8\n",
              "16  1.299036  1.436241  1.523909  1.366532  1.325820  6.951537  LT8\n",
              "17  1.308544  1.226209  1.179672  1.086510  1.597280  6.398215  LT8\n",
              "18  1.695930  1.282311  1.997914  1.673874  1.065229  7.715259  LT8\n",
              "19  1.493470  1.255178  1.851513  1.379020  1.940456  7.919638  LT8"
            ],
            "text/html": [
              "\n",
              "  <div id=\"df-1d0d853c-e182-4d1b-aaa0-667ef77c708f\">\n",
              "    <div class=\"colab-df-container\">\n",
              "      <div>\n",
              "<style scoped>\n",
              "    .dataframe tbody tr th:only-of-type {\n",
              "        vertical-align: middle;\n",
              "    }\n",
              "\n",
              "    .dataframe tbody tr th {\n",
              "        vertical-align: top;\n",
              "    }\n",
              "\n",
              "    .dataframe thead th {\n",
              "        text-align: right;\n",
              "    }\n",
              "</style>\n",
              "<table border=\"1\" class=\"dataframe\">\n",
              "  <thead>\n",
              "    <tr style=\"text-align: right;\">\n",
              "      <th></th>\n",
              "      <th>a</th>\n",
              "      <th>b</th>\n",
              "      <th>c</th>\n",
              "      <th>d</th>\n",
              "      <th>e</th>\n",
              "      <th>f</th>\n",
              "      <th>g</th>\n",
              "    </tr>\n",
              "  </thead>\n",
              "  <tbody>\n",
              "    <tr>\n",
              "      <th>0</th>\n",
              "      <td>1.319112</td>\n",
              "      <td>1.021682</td>\n",
              "      <td>1.266039</td>\n",
              "      <td>1.594180</td>\n",
              "      <td>1.455494</td>\n",
              "      <td>6.656506</td>\n",
              "      <td>LT8</td>\n",
              "    </tr>\n",
              "    <tr>\n",
              "      <th>1</th>\n",
              "      <td>1.150406</td>\n",
              "      <td>1.486955</td>\n",
              "      <td>1.624138</td>\n",
              "      <td>1.992061</td>\n",
              "      <td>1.004874</td>\n",
              "      <td>7.258434</td>\n",
              "      <td>LT8</td>\n",
              "    </tr>\n",
              "    <tr>\n",
              "      <th>2</th>\n",
              "      <td>1.666908</td>\n",
              "      <td>1.823422</td>\n",
              "      <td>1.547093</td>\n",
              "      <td>1.738555</td>\n",
              "      <td>1.480953</td>\n",
              "      <td>8.256931</td>\n",
              "      <td>GT8</td>\n",
              "    </tr>\n",
              "    <tr>\n",
              "      <th>3</th>\n",
              "      <td>1.095392</td>\n",
              "      <td>1.417316</td>\n",
              "      <td>1.274506</td>\n",
              "      <td>1.779664</td>\n",
              "      <td>1.597582</td>\n",
              "      <td>7.164460</td>\n",
              "      <td>LT8</td>\n",
              "    </tr>\n",
              "    <tr>\n",
              "      <th>4</th>\n",
              "      <td>1.147624</td>\n",
              "      <td>1.853003</td>\n",
              "      <td>1.982625</td>\n",
              "      <td>1.756058</td>\n",
              "      <td>1.197296</td>\n",
              "      <td>7.936606</td>\n",
              "      <td>LT8</td>\n",
              "    </tr>\n",
              "    <tr>\n",
              "      <th>5</th>\n",
              "      <td>1.826129</td>\n",
              "      <td>1.883796</td>\n",
              "      <td>1.028797</td>\n",
              "      <td>1.383165</td>\n",
              "      <td>1.981800</td>\n",
              "      <td>8.103687</td>\n",
              "      <td>GT8</td>\n",
              "    </tr>\n",
              "    <tr>\n",
              "      <th>6</th>\n",
              "      <td>1.564275</td>\n",
              "      <td>1.110537</td>\n",
              "      <td>1.130321</td>\n",
              "      <td>1.656417</td>\n",
              "      <td>1.971950</td>\n",
              "      <td>7.433500</td>\n",
              "      <td>LT8</td>\n",
              "    </tr>\n",
              "    <tr>\n",
              "      <th>7</th>\n",
              "      <td>1.471149</td>\n",
              "      <td>1.513537</td>\n",
              "      <td>1.411921</td>\n",
              "      <td>1.158253</td>\n",
              "      <td>1.283966</td>\n",
              "      <td>6.838827</td>\n",
              "      <td>LT8</td>\n",
              "    </tr>\n",
              "    <tr>\n",
              "      <th>8</th>\n",
              "      <td>1.905785</td>\n",
              "      <td>1.147586</td>\n",
              "      <td>1.738839</td>\n",
              "      <td>1.527732</td>\n",
              "      <td>1.459128</td>\n",
              "      <td>7.779070</td>\n",
              "      <td>LT8</td>\n",
              "    </tr>\n",
              "    <tr>\n",
              "      <th>9</th>\n",
              "      <td>1.685564</td>\n",
              "      <td>1.577160</td>\n",
              "      <td>1.688940</td>\n",
              "      <td>1.145571</td>\n",
              "      <td>1.467242</td>\n",
              "      <td>7.564476</td>\n",
              "      <td>LT8</td>\n",
              "    </tr>\n",
              "    <tr>\n",
              "      <th>10</th>\n",
              "      <td>1.546389</td>\n",
              "      <td>1.176274</td>\n",
              "      <td>1.513629</td>\n",
              "      <td>1.029755</td>\n",
              "      <td>1.623658</td>\n",
              "      <td>6.889706</td>\n",
              "      <td>LT8</td>\n",
              "    </tr>\n",
              "    <tr>\n",
              "      <th>11</th>\n",
              "      <td>1.644947</td>\n",
              "      <td>1.289396</td>\n",
              "      <td>1.885215</td>\n",
              "      <td>1.851384</td>\n",
              "      <td>1.613128</td>\n",
              "      <td>8.284069</td>\n",
              "      <td>GT8</td>\n",
              "    </tr>\n",
              "    <tr>\n",
              "      <th>12</th>\n",
              "      <td>1.533240</td>\n",
              "      <td>1.963714</td>\n",
              "      <td>1.032260</td>\n",
              "      <td>1.849091</td>\n",
              "      <td>1.106730</td>\n",
              "      <td>7.485035</td>\n",
              "      <td>LT8</td>\n",
              "    </tr>\n",
              "    <tr>\n",
              "      <th>13</th>\n",
              "      <td>1.692414</td>\n",
              "      <td>1.326288</td>\n",
              "      <td>1.508195</td>\n",
              "      <td>1.961814</td>\n",
              "      <td>1.759373</td>\n",
              "      <td>8.248084</td>\n",
              "      <td>GT8</td>\n",
              "    </tr>\n",
              "    <tr>\n",
              "      <th>14</th>\n",
              "      <td>1.546147</td>\n",
              "      <td>1.049064</td>\n",
              "      <td>1.479271</td>\n",
              "      <td>1.545403</td>\n",
              "      <td>1.839436</td>\n",
              "      <td>7.459321</td>\n",
              "      <td>LT8</td>\n",
              "    </tr>\n",
              "    <tr>\n",
              "      <th>15</th>\n",
              "      <td>1.528101</td>\n",
              "      <td>1.520611</td>\n",
              "      <td>1.228459</td>\n",
              "      <td>1.810794</td>\n",
              "      <td>1.190583</td>\n",
              "      <td>7.278548</td>\n",
              "      <td>LT8</td>\n",
              "    </tr>\n",
              "    <tr>\n",
              "      <th>16</th>\n",
              "      <td>1.299036</td>\n",
              "      <td>1.436241</td>\n",
              "      <td>1.523909</td>\n",
              "      <td>1.366532</td>\n",
              "      <td>1.325820</td>\n",
              "      <td>6.951537</td>\n",
              "      <td>LT8</td>\n",
              "    </tr>\n",
              "    <tr>\n",
              "      <th>17</th>\n",
              "      <td>1.308544</td>\n",
              "      <td>1.226209</td>\n",
              "      <td>1.179672</td>\n",
              "      <td>1.086510</td>\n",
              "      <td>1.597280</td>\n",
              "      <td>6.398215</td>\n",
              "      <td>LT8</td>\n",
              "    </tr>\n",
              "    <tr>\n",
              "      <th>18</th>\n",
              "      <td>1.695930</td>\n",
              "      <td>1.282311</td>\n",
              "      <td>1.997914</td>\n",
              "      <td>1.673874</td>\n",
              "      <td>1.065229</td>\n",
              "      <td>7.715259</td>\n",
              "      <td>LT8</td>\n",
              "    </tr>\n",
              "    <tr>\n",
              "      <th>19</th>\n",
              "      <td>1.493470</td>\n",
              "      <td>1.255178</td>\n",
              "      <td>1.851513</td>\n",
              "      <td>1.379020</td>\n",
              "      <td>1.940456</td>\n",
              "      <td>7.919638</td>\n",
              "      <td>LT8</td>\n",
              "    </tr>\n",
              "  </tbody>\n",
              "</table>\n",
              "</div>\n",
              "      <button class=\"colab-df-convert\" onclick=\"convertToInteractive('df-1d0d853c-e182-4d1b-aaa0-667ef77c708f')\"\n",
              "              title=\"Convert this dataframe to an interactive table.\"\n",
              "              style=\"display:none;\">\n",
              "        \n",
              "  <svg xmlns=\"http://www.w3.org/2000/svg\" height=\"24px\"viewBox=\"0 0 24 24\"\n",
              "       width=\"24px\">\n",
              "    <path d=\"M0 0h24v24H0V0z\" fill=\"none\"/>\n",
              "    <path d=\"M18.56 5.44l.94 2.06.94-2.06 2.06-.94-2.06-.94-.94-2.06-.94 2.06-2.06.94zm-11 1L8.5 8.5l.94-2.06 2.06-.94-2.06-.94L8.5 2.5l-.94 2.06-2.06.94zm10 10l.94 2.06.94-2.06 2.06-.94-2.06-.94-.94-2.06-.94 2.06-2.06.94z\"/><path d=\"M17.41 7.96l-1.37-1.37c-.4-.4-.92-.59-1.43-.59-.52 0-1.04.2-1.43.59L10.3 9.45l-7.72 7.72c-.78.78-.78 2.05 0 2.83L4 21.41c.39.39.9.59 1.41.59.51 0 1.02-.2 1.41-.59l7.78-7.78 2.81-2.81c.8-.78.8-2.07 0-2.86zM5.41 20L4 18.59l7.72-7.72 1.47 1.35L5.41 20z\"/>\n",
              "  </svg>\n",
              "      </button>\n",
              "      \n",
              "  <style>\n",
              "    .colab-df-container {\n",
              "      display:flex;\n",
              "      flex-wrap:wrap;\n",
              "      gap: 12px;\n",
              "    }\n",
              "\n",
              "    .colab-df-convert {\n",
              "      background-color: #E8F0FE;\n",
              "      border: none;\n",
              "      border-radius: 50%;\n",
              "      cursor: pointer;\n",
              "      display: none;\n",
              "      fill: #1967D2;\n",
              "      height: 32px;\n",
              "      padding: 0 0 0 0;\n",
              "      width: 32px;\n",
              "    }\n",
              "\n",
              "    .colab-df-convert:hover {\n",
              "      background-color: #E2EBFA;\n",
              "      box-shadow: 0px 1px 2px rgba(60, 64, 67, 0.3), 0px 1px 3px 1px rgba(60, 64, 67, 0.15);\n",
              "      fill: #174EA6;\n",
              "    }\n",
              "\n",
              "    [theme=dark] .colab-df-convert {\n",
              "      background-color: #3B4455;\n",
              "      fill: #D2E3FC;\n",
              "    }\n",
              "\n",
              "    [theme=dark] .colab-df-convert:hover {\n",
              "      background-color: #434B5C;\n",
              "      box-shadow: 0px 1px 3px 1px rgba(0, 0, 0, 0.15);\n",
              "      filter: drop-shadow(0px 1px 2px rgba(0, 0, 0, 0.3));\n",
              "      fill: #FFFFFF;\n",
              "    }\n",
              "  </style>\n",
              "\n",
              "      <script>\n",
              "        const buttonEl =\n",
              "          document.querySelector('#df-1d0d853c-e182-4d1b-aaa0-667ef77c708f button.colab-df-convert');\n",
              "        buttonEl.style.display =\n",
              "          google.colab.kernel.accessAllowed ? 'block' : 'none';\n",
              "\n",
              "        async function convertToInteractive(key) {\n",
              "          const element = document.querySelector('#df-1d0d853c-e182-4d1b-aaa0-667ef77c708f');\n",
              "          const dataTable =\n",
              "            await google.colab.kernel.invokeFunction('convertToInteractive',\n",
              "                                                     [key], {});\n",
              "          if (!dataTable) return;\n",
              "\n",
              "          const docLinkHtml = 'Like what you see? Visit the ' +\n",
              "            '<a target=\"_blank\" href=https://colab.research.google.com/notebooks/data_table.ipynb>data table notebook</a>'\n",
              "            + ' to learn more about interactive tables.';\n",
              "          element.innerHTML = '';\n",
              "          dataTable['output_type'] = 'display_data';\n",
              "          await google.colab.output.renderOutput(dataTable, element);\n",
              "          const docLink = document.createElement('div');\n",
              "          docLink.innerHTML = docLinkHtml;\n",
              "          element.appendChild(docLink);\n",
              "        }\n",
              "      </script>\n",
              "    </div>\n",
              "  </div>\n",
              "  "
            ]
          },
          "metadata": {},
          "execution_count": 303
        }
      ],
      "source": [
        "def find_sum(A):\n",
        "    sum=0\n",
        "    for num in range(len(A)):\n",
        "        sum+=num\n",
        "    return sum\n",
        "\n",
        "nums['f'] = nums['a']+nums['b']+nums['c']+nums['d']+nums['e']\n",
        "x = np.empty(20,dtype=object)\n",
        "x\n",
        "\n",
        "for i in range(len(nums['f'])):\n",
        "    if(nums['f'][i]<8):\n",
        "        x[i]=\"LT8\"\n",
        "    else:\n",
        "        x[i]=\"GT8\"\n",
        "\n",
        "nums['g']=pd.Series(x)\n",
        "\n",
        "nums"
      ]
    },
    {
      "cell_type": "markdown",
      "id": "61a73fd5",
      "metadata": {
        "id": "61a73fd5"
      },
      "source": [
        "### Finding the number of rows in the DataFrame where the value in column g is LT8"
      ]
    },
    {
      "cell_type": "code",
      "execution_count": 304,
      "id": "eec12723",
      "metadata": {
        "colab": {
          "base_uri": "https://localhost:8080/"
        },
        "id": "eec12723",
        "outputId": "8e7298ad-1f64-480e-94a1-00fdf25b6e77"
      },
      "outputs": [
        {
          "output_type": "stream",
          "name": "stdout",
          "text": [
            "0      True\n",
            "1      True\n",
            "2     False\n",
            "3      True\n",
            "4      True\n",
            "5     False\n",
            "6      True\n",
            "7      True\n",
            "8      True\n",
            "9      True\n",
            "10     True\n",
            "11    False\n",
            "12     True\n",
            "13    False\n",
            "14     True\n",
            "15     True\n",
            "16     True\n",
            "17     True\n",
            "18     True\n",
            "19     True\n",
            "Name: g, dtype: bool\n"
          ]
        },
        {
          "output_type": "execute_result",
          "data": {
            "text/plain": [
              "16"
            ]
          },
          "metadata": {},
          "execution_count": 304
        }
      ],
      "source": [
        "c=(nums['g']==\"LT8\")\n",
        "print(c)\n",
        "np.sum(c)"
      ]
    },
    {
      "cell_type": "markdown",
      "id": "bd7ad728",
      "metadata": {
        "id": "bd7ad728"
      },
      "source": [
        "### Finding the Standard Deviation for those rows in column f where the value in column g is \"LT8\"."
      ]
    },
    {
      "cell_type": "code",
      "execution_count": 305,
      "id": "a937f649",
      "metadata": {
        "colab": {
          "base_uri": "https://localhost:8080/"
        },
        "id": "a937f649",
        "outputId": "a9535f9c-ed15-47cd-ab24-1f909e8e5c9d"
      },
      "outputs": [
        {
          "output_type": "stream",
          "name": "stdout",
          "text": [
            "0     6.656506\n",
            "1     7.258434\n",
            "3     7.164460\n",
            "4     7.936606\n",
            "6     7.433500\n",
            "7     6.838827\n",
            "8     7.779070\n",
            "9     7.564476\n",
            "10    6.889706\n",
            "12    7.485035\n",
            "14    7.459321\n",
            "15    7.278548\n",
            "16    6.951537\n",
            "17    6.398215\n",
            "18    7.715259\n",
            "19    7.919638\n",
            "Name: f, dtype: float64\n"
          ]
        },
        {
          "output_type": "execute_result",
          "data": {
            "text/plain": [
              "0.43935688155367236"
            ]
          },
          "metadata": {},
          "execution_count": 305
        }
      ],
      "source": [
        "y = nums['f'][nums['g']==\"LT8\"]\n",
        "print(y)\n",
        "\n",
        "np.std(y)"
      ]
    },
    {
      "cell_type": "markdown",
      "id": "33416300",
      "metadata": {
        "id": "33416300"
      },
      "source": [
        "### Finding the Standard Deviation for those rows in column f where the value in column g is \"GT8\"."
      ]
    },
    {
      "cell_type": "code",
      "execution_count": 306,
      "id": "ecde9c52",
      "metadata": {
        "colab": {
          "base_uri": "https://localhost:8080/"
        },
        "id": "ecde9c52",
        "outputId": "43cd7b3a-06ba-46fb-8855-44217d413bdf"
      },
      "outputs": [
        {
          "output_type": "stream",
          "name": "stdout",
          "text": [
            "2     8.256931\n",
            "5     8.103687\n",
            "11    8.284069\n",
            "13    8.248084\n",
            "Name: f, dtype: float64\n"
          ]
        },
        {
          "output_type": "execute_result",
          "data": {
            "text/plain": [
              "0.07025894578811095"
            ]
          },
          "metadata": {},
          "execution_count": 306
        }
      ],
      "source": [
        "y=nums['f'][nums['g']==\"GT8\"]\n",
        "print(y)\n",
        "\n",
        "np.std(y)"
      ]
    },
    {
      "cell_type": "markdown",
      "id": "ecfff76f",
      "metadata": {
        "id": "ecfff76f"
      },
      "source": [
        "---"
      ]
    },
    {
      "cell_type": "markdown",
      "id": "829e4cd0",
      "metadata": {
        "id": "829e4cd0"
      },
      "source": [
        "# Question 12"
      ]
    },
    {
      "cell_type": "markdown",
      "id": "286ae2a4",
      "metadata": {
        "id": "286ae2a4"
      },
      "source": [
        "I understand broadcasting as a way that numpy arrays can be visualized to get extended and their dimensions get adjusted so as to allow certain operations between numpy arrays to occur.\n",
        "\n",
        "I'll demonstrate this using a simple addition program of two arrays. I'll take examples to demonstrate the 3 rules that Numpy arrays follow for broadcasting. They are:-\n",
        "\n",
        "Rule 1: If the two arrays differ in their number of dimensions, the shape of the one with fewer dimensions is padded with ones on its leading (left) side.\n",
        "\n",
        "Rule 2: If the shape of the two arrays does not match in any dimension, the array with shape equal to 1 in that dimension is stretched to match the other shape.\n",
        "\n",
        "Rule 3: If in any dimension the sizes disagree and neither is equal to 1, an error is raised.\n",
        "\n",
        "Source- Python Data Science Handbook"
      ]
    },
    {
      "cell_type": "markdown",
      "id": "38faa5a6",
      "metadata": {
        "id": "38faa5a6"
      },
      "source": [
        "**Example 1**"
      ]
    },
    {
      "cell_type": "code",
      "execution_count": 307,
      "id": "2a52861c",
      "metadata": {
        "colab": {
          "base_uri": "https://localhost:8080/"
        },
        "id": "2a52861c",
        "outputId": "ff7329bc-a67c-4a87-9b7d-9de65d36467f"
      },
      "outputs": [
        {
          "output_type": "execute_result",
          "data": {
            "text/plain": [
              "array([[0],\n",
              "       [1],\n",
              "       [2],\n",
              "       [3]])"
            ]
          },
          "metadata": {},
          "execution_count": 307
        }
      ],
      "source": [
        "a = np.arange(4).reshape(4,1)\n",
        "a"
      ]
    },
    {
      "cell_type": "code",
      "execution_count": 308,
      "id": "d567a315",
      "metadata": {
        "colab": {
          "base_uri": "https://localhost:8080/"
        },
        "id": "d567a315",
        "outputId": "e93e8de4-90f4-42a2-b1e4-d28e1bf2f59a"
      },
      "outputs": [
        {
          "output_type": "execute_result",
          "data": {
            "text/plain": [
              "array([[0, 1, 2, 3]])"
            ]
          },
          "metadata": {},
          "execution_count": 308
        }
      ],
      "source": [
        "b = np.arange(4).reshape(1,4)\n",
        "b"
      ]
    },
    {
      "cell_type": "code",
      "execution_count": 309,
      "id": "08e1f56f",
      "metadata": {
        "colab": {
          "base_uri": "https://localhost:8080/"
        },
        "id": "08e1f56f",
        "outputId": "b00b8a33-ca6d-452a-b405-b0e22eea1843"
      },
      "outputs": [
        {
          "output_type": "execute_result",
          "data": {
            "text/plain": [
              "array([[0, 1, 2, 3],\n",
              "       [1, 2, 3, 4],\n",
              "       [2, 3, 4, 5],\n",
              "       [3, 4, 5, 6]])"
            ]
          },
          "metadata": {},
          "execution_count": 309
        }
      ],
      "source": [
        "a+b"
      ]
    },
    {
      "cell_type": "markdown",
      "id": "dbfa825a",
      "metadata": {
        "id": "dbfa825a"
      },
      "source": [
        "We can think of the column matrix a being extended rightwards to span 4 columns and the row matrix b being extended downwards to span 4 rows. The corresponding new matrices can be thought of as being (4,4) and then normal addition occurs to give the resultant matrix a+b.\n",
        "\n",
        "The shape of the resultant matrix takes that of the broadcasted matrices."
      ]
    },
    {
      "cell_type": "markdown",
      "id": "12ab0c41",
      "metadata": {
        "id": "12ab0c41"
      },
      "source": [
        "**Example 2**"
      ]
    },
    {
      "cell_type": "code",
      "execution_count": 310,
      "id": "b639be0f",
      "metadata": {
        "colab": {
          "base_uri": "https://localhost:8080/"
        },
        "id": "b639be0f",
        "outputId": "75469efe-033c-4c47-fb63-89600e554823"
      },
      "outputs": [
        {
          "output_type": "execute_result",
          "data": {
            "text/plain": [
              "array([[0, 1],\n",
              "       [2, 3],\n",
              "       [4, 5]])"
            ]
          },
          "metadata": {},
          "execution_count": 310
        }
      ],
      "source": [
        "a = np.arange(6).reshape(3,2)\n",
        "a"
      ]
    },
    {
      "cell_type": "code",
      "execution_count": 311,
      "id": "010ae24d",
      "metadata": {
        "colab": {
          "base_uri": "https://localhost:8080/"
        },
        "id": "010ae24d",
        "outputId": "70cb1128-aabd-4a89-a1b9-4e53352a8eb1"
      },
      "outputs": [
        {
          "output_type": "execute_result",
          "data": {
            "text/plain": [
              "array([[0, 1, 2, 3]])"
            ]
          },
          "metadata": {},
          "execution_count": 311
        }
      ],
      "source": [
        "b = np.arange(4).reshape(1,4)\n",
        "b"
      ]
    },
    {
      "cell_type": "code",
      "execution_count": 313,
      "id": "27ef2237",
      "metadata": {
        "id": "27ef2237",
        "colab": {
          "base_uri": "https://localhost:8080/",
          "height": 166
        },
        "outputId": "bd9c3b2c-a270-4ba1-e5cf-7a2d821bfac8"
      },
      "outputs": [
        {
          "output_type": "error",
          "ename": "ValueError",
          "evalue": "ignored",
          "traceback": [
            "\u001b[0;31m---------------------------------------------------------------------------\u001b[0m",
            "\u001b[0;31mValueError\u001b[0m                                Traceback (most recent call last)",
            "\u001b[0;32m<ipython-input-313-694fcfc717e7>\u001b[0m in \u001b[0;36m<module>\u001b[0;34m\u001b[0m\n\u001b[0;32m----> 1\u001b[0;31m \u001b[0ma\u001b[0m\u001b[0;34m+\u001b[0m\u001b[0mb\u001b[0m    \u001b[0;31m##used to display an error, uncomment to run\u001b[0m\u001b[0;34m\u001b[0m\u001b[0;34m\u001b[0m\u001b[0m\n\u001b[0m",
            "\u001b[0;31mValueError\u001b[0m: operands could not be broadcast together with shapes (3,2) (1,4) "
          ]
        }
      ],
      "source": [
        "#a+b    ##used to display an error, uncomment to run and view error"
      ]
    },
    {
      "cell_type": "markdown",
      "id": "87a1ae71",
      "metadata": {
        "id": "87a1ae71"
      },
      "source": [
        "We can observe above that the matrix b has shape=1 in the first dimension so b can be thought to be extended to yield a(3,2) and b(3,4), and now a and b don't agree on the second dimension with both values not being equal to 1, so they cannot be broadcasted together."
      ]
    },
    {
      "cell_type": "markdown",
      "id": "6247eab6",
      "metadata": {
        "id": "6247eab6"
      },
      "source": [
        "---"
      ]
    },
    {
      "cell_type": "markdown",
      "id": "cb99c136",
      "metadata": {
        "id": "cb99c136"
      },
      "source": [
        "# Question 7"
      ]
    },
    {
      "cell_type": "markdown",
      "id": "d39279a2",
      "metadata": {
        "id": "d39279a2"
      },
      "source": [
        "I'll be implementing a record of students and their marks as a nested dictionary. It will cover years 2022-2025 with two branches- CSE and EE having 3-4 students each."
      ]
    },
    {
      "cell_type": "code",
      "execution_count": 314,
      "id": "3fc11b3f",
      "metadata": {
        "id": "3fc11b3f"
      },
      "outputs": [],
      "source": [
        "database ={2022:{'CSE':{1:{'Rollnumber':1,'Name':'Rahul','DSA':'A','ML':'A'},2:{'Rollnumber':2,'Name':'Rohan','DSA':'A-','ML':'A+'},3:{'Rollnumber':3,'Name':'Raj','DSA':'C','ML':'B'}},'EE':{1:{'Rollnumber':17,'Name':'Rajiv','EM':'B-','ED':'A'},2:{'Rollnumber':18,'Name':'John','EM':'C','ED':'B'},3:{'Rollnumber':19,'Name':'Chris','EM':'A+','ED':'A+'}}},2023:{'CSE':{1:{'Rollnumber':128,'Name':'Mihir','DSA':'A','ML':'A'},2:{'Rollnumber':129,'Name':'Arun','DSA':'A-','ML':'A'},3:{'Rollnumber':130,'Name':'Karthik','DSA':'B','ML':'B-'}},'EE':{1:{'Rollnumber':170,'Name':'Shubham','EM':'B+','ED':'A-'},2:{'Rollnumber':171,'Name':'Janardhan','EM':'C-','ED':'A-'},3:{'Rollnumber':172,'Name':'Charlie','EM':'A+','ED':'A+'}}},2024:{'CSE':{1:{'Rollnumber':190,'Name':'Shivam','DSA':'A','ML':'A'},2:{'Rollnumber':191,'Name':'Amey','DSA':'A-','ML':'A'},3:{'Rollnumber':192,'Name':'Aditya','DSA':'B','ML':'A-'}},'EE':{1:{'Rollnumber':200,'Name':'Vrutik','EM':'A','ED':'A'},2:{'Rollnumber':201,'Name':'Shril','EM':'A-','ED':'A+'},3:{'Rollnumber':202,'Name':'Praveen','EM':'A+','ED':'A+'}}},2025:{'CSE':{1:{'Rollnumber':210,'Name':'Amol','DSA':'A','ML':'A'},2:{'Rollnumber':211,'Name':'Rohan','DSA':'A-','ML':'A+'},3:{'Rollnumber':212,'Name':'Harsh','DSA':'A-','ML':'A+'}},'EE':{1:{'Rollnumber':220,'Name':'Ravi','EM':'B-','ED':'A'},2:{'Rollnumber':221,'Name':'Taha','EM':'C','ED':'B'},3:{'Rollnumber':222,'Name':'Chirayu','EM':'A','ED':'F'}}}}"
      ]
    },
    {
      "cell_type": "code",
      "execution_count": 316,
      "id": "d904d12c",
      "metadata": {
        "colab": {
          "base_uri": "https://localhost:8080/",
          "height": 35
        },
        "id": "d904d12c",
        "outputId": "65c2e2a1-48c9-4a31-b375-481e87f82702"
      },
      "outputs": [
        {
          "output_type": "execute_result",
          "data": {
            "text/plain": [
              "'A+'"
            ],
            "application/vnd.google.colaboratory.intrinsic+json": {
              "type": "string"
            }
          },
          "metadata": {},
          "execution_count": 316
        }
      ],
      "source": [
        "database[2022]['CSE'][2]['ML']"
      ]
    },
    {
      "cell_type": "code",
      "execution_count": 315,
      "id": "451e649d",
      "metadata": {
        "colab": {
          "base_uri": "https://localhost:8080/",
          "height": 35
        },
        "id": "451e649d",
        "outputId": "810015e9-67cb-4835-e9ee-78b4f32dc436"
      },
      "outputs": [
        {
          "output_type": "execute_result",
          "data": {
            "text/plain": [
              "'Rahul'"
            ],
            "application/vnd.google.colaboratory.intrinsic+json": {
              "type": "string"
            }
          },
          "metadata": {},
          "execution_count": 315
        }
      ],
      "source": [
        "database[2022]['CSE'][1]['Name']"
      ]
    },
    {
      "cell_type": "code",
      "execution_count": 317,
      "id": "0977e139",
      "metadata": {
        "colab": {
          "base_uri": "https://localhost:8080/",
          "height": 35
        },
        "id": "0977e139",
        "outputId": "f47cae91-8ed1-48b8-8e3c-224ab2de2b54"
      },
      "outputs": [
        {
          "output_type": "execute_result",
          "data": {
            "text/plain": [
              "'B+'"
            ],
            "application/vnd.google.colaboratory.intrinsic+json": {
              "type": "string"
            }
          },
          "metadata": {},
          "execution_count": 317
        }
      ],
      "source": [
        "database[2023]['EE'][1]['EM']"
      ]
    },
    {
      "cell_type": "code",
      "execution_count": 318,
      "id": "e7ad479d",
      "metadata": {
        "colab": {
          "base_uri": "https://localhost:8080/",
          "height": 35
        },
        "id": "e7ad479d",
        "outputId": "5ee0574d-27f0-4ab8-9121-fc978c648cbe"
      },
      "outputs": [
        {
          "output_type": "execute_result",
          "data": {
            "text/plain": [
              "'Chirayu'"
            ],
            "application/vnd.google.colaboratory.intrinsic+json": {
              "type": "string"
            }
          },
          "metadata": {},
          "execution_count": 318
        }
      ],
      "source": [
        "database[2025]['EE'][3]['Name']"
      ]
    },
    {
      "cell_type": "markdown",
      "id": "17bce8ba",
      "metadata": {
        "id": "17bce8ba"
      },
      "source": [
        "This nested dictionary population is tedious and the syntax is complicated with high chances of an error."
      ]
    },
    {
      "cell_type": "markdown",
      "id": "e4900694",
      "metadata": {
        "id": "e4900694"
      },
      "source": [
        "---"
      ]
    },
    {
      "cell_type": "markdown",
      "id": "883627fa",
      "metadata": {
        "id": "883627fa"
      },
      "source": [
        "# Question 8"
      ]
    },
    {
      "cell_type": "markdown",
      "id": "0f9fd405",
      "metadata": {
        "id": "0f9fd405"
      },
      "source": [
        "The same database using Python classes."
      ]
    },
    {
      "cell_type": "code",
      "execution_count": 254,
      "id": "198e5278",
      "metadata": {
        "id": "198e5278"
      },
      "outputs": [],
      "source": [
        "class CSE_Student:\n",
        "    def __init__(self,name,Rollnumber,marks1,marks2):\n",
        "        self.name = name\n",
        "        self.Rollnumber = Rollnumber\n",
        "        self.DSA = marks1\n",
        "        self.ML = marks2\n",
        "\n",
        "class EE_Student:\n",
        "    def __init__(self,name,Rollnumber,marks1,marks2):\n",
        "        self.name = name\n",
        "        self.Rollnumber = Rollnumber\n",
        "        self.EM = marks1\n",
        "        self.ED = marks2\n",
        "\n",
        "class branch:\n",
        "    def __init__(self,l):\n",
        "        self.students=l\n",
        "\n",
        "class year:\n",
        "    def __init__(self,l):\n",
        "        self.branches = l\n",
        "        \n",
        "#For 2022\n",
        "        \n",
        "CSE_2022_1 = CSE_Student('Rahul',1,'A','A-')\n",
        "CSE_2022_2 = CSE_Student('Rohan',2,'A-','A+')\n",
        "CSE_2022_3 = CSE_Student('Raj',3,'C','B')\n",
        "\n",
        "EE_2022_1 = EE_Student('Rajiv',17,'B-','A')\n",
        "EE_2022_2 = EE_Student('John',18,'C','B')\n",
        "EE_2022_3 = EE_Student('Chris',19,'A+','A+')\n",
        "\n",
        "CSE_2022= branch([CSE_2022_1,CSE_2022_2,CSE_2022_3])\n",
        "EE_2022=branch([EE_2022_1,EE_2022_2,EE_2022_3])\n",
        "\n",
        "Year_2022 = year([CSE_2022,EE_2022])\n",
        "\n",
        "\n",
        "#For 2023\n",
        "\n",
        "CSE_2023_1 = CSE_Student('Mihir',128,'A','A-')\n",
        "CSE_2023_2 = CSE_Student('Arun',129,'A-','A+')\n",
        "CSE_2023_3 = CSE_Student('Karthik',130,'B','B-')\n",
        "\n",
        "EE_2023_1 = EE_Student('Shubham',170,'B+','A-')\n",
        "EE_2023_2 = EE_Student('Janardhan',171,'C-','A-')\n",
        "EE_2023_3 = EE_Student('Charlie',171,'A+','A+')\n",
        "\n",
        "CSE_2023= branch([CSE_2023_1,CSE_2023_2,CSE_2023_3])\n",
        "EE_2023=branch([EE_2023_1,EE_2023_2,EE_2023_3])\n",
        "\n",
        "Year_2023 = year([CSE_2023,EE_2023])\n",
        "\n",
        "\n",
        "#For 2024\n",
        "\n",
        "CSE_2024_1 = CSE_Student('Shivam',190,'A','A')\n",
        "CSE_2024_2 = CSE_Student('Amey',191,'A-','A')\n",
        "CSE_2024_3 = CSE_Student('Aditya',192,'B','A-')\n",
        "\n",
        "EE_2024_1 = EE_Student('Vrutik',200,'A','A')\n",
        "EE_2024_2 = EE_Student('Shril',201,'A-','A+')\n",
        "EE_2024_3 = EE_Student('Praveen',202,'A+','A+')\n",
        "\n",
        "CSE_2024= branch([CSE_2024_1,CSE_2024_2,CSE_2024_3])\n",
        "EE_2024=branch([EE_2024_1,EE_2024_2,EE_2024_3])\n",
        "\n",
        "Year_2024 = year([CSE_2024,EE_2024])\n",
        "\n",
        "#For 2025\n",
        "\n",
        "CSE_2025_1 = CSE_Student('Amol',210,'A','A')\n",
        "CSE_2025_2 = CSE_Student('Rohan',211,'A-','A+')\n",
        "CSE_2025_3 = CSE_Student('Harsh',212,'A-','A+')\n",
        "\n",
        "EE_2025_1 = EE_Student('Ravi',220,'B-','A')\n",
        "EE_2025_2 = EE_Student('Taha',221,'C','B')\n",
        "EE_2025_3 = EE_Student('Chirayu',222,'A','F')\n",
        "\n",
        "CSE_2025= branch([CSE_2025_1,CSE_2025_2,CSE_2025_3])\n",
        "EE_2025=branch([EE_2025_1,EE_2025_2,EE_2025_3])\n",
        "\n",
        "Year_2025 = year([CSE_2025,EE_2025])\n",
        "\n",
        "\n",
        "#Database\n",
        "\n",
        "database=[Year_2022,Year_2023,Year_2024,Year_2025]\n"
      ]
    },
    {
      "cell_type": "code",
      "execution_count": 255,
      "id": "d40f1866",
      "metadata": {
        "colab": {
          "base_uri": "https://localhost:8080/",
          "height": 35
        },
        "id": "d40f1866",
        "outputId": "87bf4e67-93cb-4858-ad36-6f17ba9b8868"
      },
      "outputs": [
        {
          "output_type": "execute_result",
          "data": {
            "text/plain": [
              "'A+'"
            ],
            "application/vnd.google.colaboratory.intrinsic+json": {
              "type": "string"
            }
          },
          "metadata": {},
          "execution_count": 255
        }
      ],
      "source": [
        "database[0].branches[0].students[1].ML"
      ]
    },
    {
      "cell_type": "code",
      "execution_count": 256,
      "id": "78bd98a2",
      "metadata": {
        "colab": {
          "base_uri": "https://localhost:8080/",
          "height": 35
        },
        "id": "78bd98a2",
        "outputId": "094e3a1a-1cb2-459d-a752-a11b5e001382"
      },
      "outputs": [
        {
          "output_type": "execute_result",
          "data": {
            "text/plain": [
              "'Rahul'"
            ],
            "application/vnd.google.colaboratory.intrinsic+json": {
              "type": "string"
            }
          },
          "metadata": {},
          "execution_count": 256
        }
      ],
      "source": [
        "database[0].branches[0].students[0].name"
      ]
    },
    {
      "cell_type": "code",
      "execution_count": 257,
      "id": "10c723b8",
      "metadata": {
        "colab": {
          "base_uri": "https://localhost:8080/",
          "height": 35
        },
        "id": "10c723b8",
        "outputId": "f1fad0b3-095d-495b-c48d-758ed47042b9"
      },
      "outputs": [
        {
          "output_type": "execute_result",
          "data": {
            "text/plain": [
              "'B+'"
            ],
            "application/vnd.google.colaboratory.intrinsic+json": {
              "type": "string"
            }
          },
          "metadata": {},
          "execution_count": 257
        }
      ],
      "source": [
        "database[1].branches[1].students[0].EM"
      ]
    },
    {
      "cell_type": "code",
      "execution_count": 258,
      "id": "24072d27",
      "metadata": {
        "colab": {
          "base_uri": "https://localhost:8080/",
          "height": 35
        },
        "id": "24072d27",
        "outputId": "c212e24e-3491-4b17-ed8b-99be232ecc63"
      },
      "outputs": [
        {
          "output_type": "execute_result",
          "data": {
            "text/plain": [
              "'Chirayu'"
            ],
            "application/vnd.google.colaboratory.intrinsic+json": {
              "type": "string"
            }
          },
          "metadata": {},
          "execution_count": 258
        }
      ],
      "source": [
        "database[3].branches[1].students[2].name"
      ]
    },
    {
      "cell_type": "markdown",
      "id": "c6603bc2",
      "metadata": {
        "id": "c6603bc2"
      },
      "source": [
        "After making the classes for year, branch, student and initializing the objects with the same values as the dictionary-implemented database, I made the same queries and got accurate results.\n",
        "\n",
        "This code is more structured and much easier to read and write syntactically and easy to update and extend as well."
      ]
    }
  ],
  "metadata": {
    "kernelspec": {
      "display_name": "Python 3 (ipykernel)",
      "language": "python",
      "name": "python3"
    },
    "language_info": {
      "codemirror_mode": {
        "name": "ipython",
        "version": 3
      },
      "file_extension": ".py",
      "mimetype": "text/x-python",
      "name": "python",
      "nbconvert_exporter": "python",
      "pygments_lexer": "ipython3",
      "version": "3.10.9"
    },
    "colab": {
      "provenance": []
    }
  },
  "nbformat": 4,
  "nbformat_minor": 5
}